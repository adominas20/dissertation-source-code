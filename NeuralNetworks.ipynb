{
 "cells": [
  {
   "cell_type": "markdown",
   "id": "a9227e6e",
   "metadata": {},
   "source": [
    "# Consumption Data with Principal Components"
   ]
  },
  {
   "cell_type": "code",
   "execution_count": 126,
   "id": "726c0e79",
   "metadata": {},
   "outputs": [],
   "source": [
    "import pandas as pd\n",
    "import numpy as np\n",
    "import os\n",
    "import shutil\n",
    "import pickle as pk\n",
    "import matplotlib.pyplot as plt\n",
    "\n",
    "from sklearn.preprocessing import OneHotEncoder\n",
    "from sklearn.model_selection import train_test_split\n",
    "\n",
    "from keras import models\n",
    "from keras import layers\n",
    "from keras.callbacks import EarlyStopping, ModelCheckpoint\n",
    "from keras.models import load_model"
   ]
  },
  {
   "cell_type": "code",
   "execution_count": 127,
   "id": "17581a40",
   "metadata": {},
   "outputs": [
    {
     "name": "stdout",
     "output_type": "stream",
     "text": [
      "\n",
      "Shape of dataframe:\n",
      "(17460, 5)\n",
      "\n",
      "Head of dataframe:\n"
     ]
    },
    {
     "data": {
      "text/html": [
       "<div>\n",
       "<style scoped>\n",
       "    .dataframe tbody tr th:only-of-type {\n",
       "        vertical-align: middle;\n",
       "    }\n",
       "\n",
       "    .dataframe tbody tr th {\n",
       "        vertical-align: top;\n",
       "    }\n",
       "\n",
       "    .dataframe thead th {\n",
       "        text-align: right;\n",
       "    }\n",
       "</style>\n",
       "<table border=\"1\" class=\"dataframe\">\n",
       "  <thead>\n",
       "    <tr style=\"text-align: right;\">\n",
       "      <th></th>\n",
       "      <th>PC1</th>\n",
       "      <th>PC2</th>\n",
       "      <th>PC3</th>\n",
       "      <th>PC4</th>\n",
       "      <th>AnomalyType</th>\n",
       "    </tr>\n",
       "  </thead>\n",
       "  <tbody>\n",
       "    <tr>\n",
       "      <th>0</th>\n",
       "      <td>-1.975673</td>\n",
       "      <td>-0.431560</td>\n",
       "      <td>0.983825</td>\n",
       "      <td>-0.502969</td>\n",
       "      <td>0</td>\n",
       "    </tr>\n",
       "    <tr>\n",
       "      <th>1</th>\n",
       "      <td>-1.927490</td>\n",
       "      <td>-0.413252</td>\n",
       "      <td>1.010678</td>\n",
       "      <td>-0.509047</td>\n",
       "      <td>0</td>\n",
       "    </tr>\n",
       "    <tr>\n",
       "      <th>2</th>\n",
       "      <td>-1.964323</td>\n",
       "      <td>-0.327661</td>\n",
       "      <td>0.940654</td>\n",
       "      <td>-0.553895</td>\n",
       "      <td>0</td>\n",
       "    </tr>\n",
       "    <tr>\n",
       "      <th>3</th>\n",
       "      <td>-1.887322</td>\n",
       "      <td>-0.295544</td>\n",
       "      <td>0.962395</td>\n",
       "      <td>-0.581791</td>\n",
       "      <td>0</td>\n",
       "    </tr>\n",
       "    <tr>\n",
       "      <th>4</th>\n",
       "      <td>-1.869729</td>\n",
       "      <td>-0.256921</td>\n",
       "      <td>0.959676</td>\n",
       "      <td>-0.597040</td>\n",
       "      <td>0</td>\n",
       "    </tr>\n",
       "  </tbody>\n",
       "</table>\n",
       "</div>"
      ],
      "text/plain": [
       "        PC1       PC2       PC3       PC4  AnomalyType\n",
       "0 -1.975673 -0.431560  0.983825 -0.502969            0\n",
       "1 -1.927490 -0.413252  1.010678 -0.509047            0\n",
       "2 -1.964323 -0.327661  0.940654 -0.553895            0\n",
       "3 -1.887322 -0.295544  0.962395 -0.581791            0\n",
       "4 -1.869729 -0.256921  0.959676 -0.597040            0"
      ]
     },
     "execution_count": 127,
     "metadata": {},
     "output_type": "execute_result"
    }
   ],
   "source": [
    "df = pd.read_csv('consumption.csv').dropna()\n",
    "df.drop(\"Unnamed: 0\", axis=1, inplace=True)\n",
    "\n",
    "print()\n",
    "print('Shape of dataframe:')\n",
    "print(str(df.shape))\n",
    "print()\n",
    "print('Head of dataframe:')\n",
    "df.head()"
   ]
  },
  {
   "cell_type": "code",
   "execution_count": 87,
   "id": "3527d858",
   "metadata": {},
   "outputs": [],
   "source": [
    "x = df.drop('AnomalyType', axis=1)\n",
    "y = df['AnomalyType']"
   ]
  },
  {
   "cell_type": "code",
   "execution_count": 88,
   "id": "1f1a4515",
   "metadata": {},
   "outputs": [
    {
     "data": {
      "text/plain": [
       "array([[1., 0., 0., 0.],\n",
       "       [1., 0., 0., 0.],\n",
       "       [1., 0., 0., 0.],\n",
       "       ...,\n",
       "       [1., 0., 0., 0.],\n",
       "       [1., 0., 0., 0.],\n",
       "       [1., 0., 0., 0.]])"
      ]
     },
     "execution_count": 88,
     "metadata": {},
     "output_type": "execute_result"
    }
   ],
   "source": [
    "encoder = OneHotEncoder()\n",
    "\n",
    "encoded_Y = encoder.fit(y.values.reshape(-1,1))\n",
    "encoded_Y = encoded_Y.transform(y.values.reshape(-1,1)).toarray()\n",
    "\n",
    "encoded_Y"
   ]
  },
  {
   "cell_type": "code",
   "execution_count": 89,
   "id": "3dabb2db",
   "metadata": {},
   "outputs": [],
   "source": [
    "train_ratio = 0.70\n",
    "validation_ratio = 0.15\n",
    "test_ratio = 0.15\n",
    "\n",
    "# Generate TrainX and TrainY\n",
    "trainX, testX, trainY, testY = train_test_split(x, encoded_Y, test_size= 1 - train_ratio)\n",
    "# Genearate ValX, TestX, ValY and TestY\n",
    "valX, testX, valY, testY = train_test_split(testX, testY, test_size=test_ratio/(test_ratio + validation_ratio))"
   ]
  },
  {
   "cell_type": "code",
   "execution_count": 90,
   "id": "b4d8c149",
   "metadata": {},
   "outputs": [
    {
     "name": "stdout",
     "output_type": "stream",
     "text": [
      "(12221, 4)\n",
      "(2619, 4)\n",
      "(2620, 4)\n"
     ]
    }
   ],
   "source": [
    "print(trainX.shape)\n",
    "print(valX.shape)\n",
    "print(testX.shape)"
   ]
  },
  {
   "cell_type": "code",
   "execution_count": 91,
   "id": "72d13915",
   "metadata": {},
   "outputs": [
    {
     "data": {
      "text/html": [
       "<div>\n",
       "<style scoped>\n",
       "    .dataframe tbody tr th:only-of-type {\n",
       "        vertical-align: middle;\n",
       "    }\n",
       "\n",
       "    .dataframe tbody tr th {\n",
       "        vertical-align: top;\n",
       "    }\n",
       "\n",
       "    .dataframe thead th {\n",
       "        text-align: right;\n",
       "    }\n",
       "</style>\n",
       "<table border=\"1\" class=\"dataframe\">\n",
       "  <thead>\n",
       "    <tr style=\"text-align: right;\">\n",
       "      <th></th>\n",
       "      <th>unique_elements</th>\n",
       "      <th>count</th>\n",
       "    </tr>\n",
       "  </thead>\n",
       "  <tbody>\n",
       "    <tr>\n",
       "      <th>0</th>\n",
       "      <td>0</td>\n",
       "      <td>11070</td>\n",
       "    </tr>\n",
       "    <tr>\n",
       "      <th>1</th>\n",
       "      <td>1</td>\n",
       "      <td>328</td>\n",
       "    </tr>\n",
       "    <tr>\n",
       "      <th>2</th>\n",
       "      <td>2</td>\n",
       "      <td>337</td>\n",
       "    </tr>\n",
       "    <tr>\n",
       "      <th>3</th>\n",
       "      <td>3</td>\n",
       "      <td>486</td>\n",
       "    </tr>\n",
       "  </tbody>\n",
       "</table>\n",
       "</div>"
      ],
      "text/plain": [
       "   unique_elements  count\n",
       "0                0  11070\n",
       "1                1    328\n",
       "2                2    337\n",
       "3                3    486"
      ]
     },
     "execution_count": 91,
     "metadata": {},
     "output_type": "execute_result"
    }
   ],
   "source": [
    "re_transformed_array_trainY = encoder.inverse_transform(trainY)\n",
    "\n",
    "unique_elements, counts_elements = np.unique(re_transformed_array_trainY, return_counts=True)\n",
    "unique_elements_and_counts_trainY = pd.DataFrame(np.asarray((unique_elements, counts_elements)).T)\n",
    "unique_elements_and_counts_trainY.columns = ['unique_elements', 'count']\n",
    "\n",
    "unique_elements_and_counts_trainY"
   ]
  },
  {
   "cell_type": "code",
   "execution_count": 92,
   "id": "f66fa858",
   "metadata": {},
   "outputs": [
    {
     "data": {
      "text/html": [
       "<div>\n",
       "<style scoped>\n",
       "    .dataframe tbody tr th:only-of-type {\n",
       "        vertical-align: middle;\n",
       "    }\n",
       "\n",
       "    .dataframe tbody tr th {\n",
       "        vertical-align: top;\n",
       "    }\n",
       "\n",
       "    .dataframe thead th {\n",
       "        text-align: right;\n",
       "    }\n",
       "</style>\n",
       "<table border=\"1\" class=\"dataframe\">\n",
       "  <thead>\n",
       "    <tr style=\"text-align: right;\">\n",
       "      <th></th>\n",
       "      <th>unique_elements</th>\n",
       "      <th>count</th>\n",
       "    </tr>\n",
       "  </thead>\n",
       "  <tbody>\n",
       "    <tr>\n",
       "      <th>0</th>\n",
       "      <td>0</td>\n",
       "      <td>2368</td>\n",
       "    </tr>\n",
       "    <tr>\n",
       "      <th>1</th>\n",
       "      <td>1</td>\n",
       "      <td>64</td>\n",
       "    </tr>\n",
       "    <tr>\n",
       "      <th>2</th>\n",
       "      <td>2</td>\n",
       "      <td>66</td>\n",
       "    </tr>\n",
       "    <tr>\n",
       "      <th>3</th>\n",
       "      <td>3</td>\n",
       "      <td>121</td>\n",
       "    </tr>\n",
       "  </tbody>\n",
       "</table>\n",
       "</div>"
      ],
      "text/plain": [
       "   unique_elements  count\n",
       "0                0   2368\n",
       "1                1     64\n",
       "2                2     66\n",
       "3                3    121"
      ]
     },
     "execution_count": 92,
     "metadata": {},
     "output_type": "execute_result"
    }
   ],
   "source": [
    "re_transformed_array_valY = encoder.inverse_transform(valY)\n",
    "\n",
    "unique_elements, counts_elements = np.unique(re_transformed_array_valY, return_counts=True)\n",
    "unique_elements_and_counts_valY = pd.DataFrame(np.asarray((unique_elements, counts_elements)).T)\n",
    "unique_elements_and_counts_valY.columns = ['unique_elements', 'count']\n",
    "\n",
    "unique_elements_and_counts_valY"
   ]
  },
  {
   "cell_type": "code",
   "execution_count": 93,
   "id": "e0f18350",
   "metadata": {},
   "outputs": [
    {
     "data": {
      "text/html": [
       "<div>\n",
       "<style scoped>\n",
       "    .dataframe tbody tr th:only-of-type {\n",
       "        vertical-align: middle;\n",
       "    }\n",
       "\n",
       "    .dataframe tbody tr th {\n",
       "        vertical-align: top;\n",
       "    }\n",
       "\n",
       "    .dataframe thead th {\n",
       "        text-align: right;\n",
       "    }\n",
       "</style>\n",
       "<table border=\"1\" class=\"dataframe\">\n",
       "  <thead>\n",
       "    <tr style=\"text-align: right;\">\n",
       "      <th></th>\n",
       "      <th>unique_elements</th>\n",
       "      <th>count</th>\n",
       "    </tr>\n",
       "  </thead>\n",
       "  <tbody>\n",
       "    <tr>\n",
       "      <th>0</th>\n",
       "      <td>0</td>\n",
       "      <td>2368</td>\n",
       "    </tr>\n",
       "    <tr>\n",
       "      <th>1</th>\n",
       "      <td>1</td>\n",
       "      <td>68</td>\n",
       "    </tr>\n",
       "    <tr>\n",
       "      <th>2</th>\n",
       "      <td>2</td>\n",
       "      <td>68</td>\n",
       "    </tr>\n",
       "    <tr>\n",
       "      <th>3</th>\n",
       "      <td>3</td>\n",
       "      <td>116</td>\n",
       "    </tr>\n",
       "  </tbody>\n",
       "</table>\n",
       "</div>"
      ],
      "text/plain": [
       "   unique_elements  count\n",
       "0                0   2368\n",
       "1                1     68\n",
       "2                2     68\n",
       "3                3    116"
      ]
     },
     "execution_count": 93,
     "metadata": {},
     "output_type": "execute_result"
    }
   ],
   "source": [
    "re_transformed_array_testY = encoder.inverse_transform(testY)\n",
    "\n",
    "unique_elements, counts_elements = np.unique(re_transformed_array_testY, return_counts=True)\n",
    "unique_elements_and_counts_testY = pd.DataFrame(np.asarray((unique_elements, counts_elements)).T)\n",
    "unique_elements_and_counts_testY.columns = ['unique_elements', 'count']\n",
    "\n",
    "unique_elements_and_counts_testY"
   ]
  },
  {
   "cell_type": "code",
   "execution_count": 94,
   "id": "795acc06",
   "metadata": {},
   "outputs": [
    {
     "name": "stdout",
     "output_type": "stream",
     "text": [
      "[0, 1, 2, 3]\n",
      "[0, 1, 2, 3]\n",
      "[0, 1, 2, 3]\n"
     ]
    }
   ],
   "source": [
    "list_trainY = unique_elements_and_counts_trainY['unique_elements'].to_list()\n",
    "list_valY = unique_elements_and_counts_valY['unique_elements'].to_list()\n",
    "list_testY = unique_elements_and_counts_testY['unique_elements'].to_list()\n",
    "\n",
    "print(list_trainY)\n",
    "print(list_valY)\n",
    "print(list_testY)"
   ]
  },
  {
   "cell_type": "code",
   "execution_count": 95,
   "id": "2bd63897",
   "metadata": {},
   "outputs": [
    {
     "name": "stdout",
     "output_type": "stream",
     "text": [
      "OK !\n",
      "The list_valY contains all elements of the list_trainY.\n"
     ]
    }
   ],
   "source": [
    "check_val =  all(item in list_valY for item in list_trainY)\n",
    " \n",
    "if check_val is True:\n",
    "    print('OK !')\n",
    "    print(\"The list_valY contains all elements of the list_trainY.\")    \n",
    "else :\n",
    "    print()\n",
    "    print('No !')\n",
    "    print(\"List_valY doesn't have all elements of the list_trainY.\")"
   ]
  },
  {
   "cell_type": "code",
   "execution_count": 96,
   "id": "144a511b",
   "metadata": {},
   "outputs": [
    {
     "name": "stdout",
     "output_type": "stream",
     "text": [
      "OK !\n",
      "The list_testY contains all elements of the list_trainY.\n"
     ]
    }
   ],
   "source": [
    "check_test =  all(item in list_testY for item in list_trainY)\n",
    " \n",
    "if check_test is True:\n",
    "    print('OK !')\n",
    "    print(\"The list_testY contains all elements of the list_trainY.\")    \n",
    "else :\n",
    "    print()\n",
    "    print('No !')\n",
    "    print(\"List_testY doesn't have all elements of the list_trainY.\")"
   ]
  },
  {
   "cell_type": "code",
   "execution_count": 97,
   "id": "34cfa577",
   "metadata": {},
   "outputs": [],
   "source": [
    "checkpoint_no = 'ckpt_1_ANN'\n",
    "model_name = 'Consumption_ANN_2FC_F64_64_epoch_25'"
   ]
  },
  {
   "cell_type": "code",
   "execution_count": 98,
   "id": "d5d9f84c",
   "metadata": {},
   "outputs": [
    {
     "name": "stdout",
     "output_type": "stream",
     "text": [
      "Input Shape: 4\n",
      "Batch Size: 20\n",
      "\n",
      "Steps per Epoch: 611\n",
      "\n",
      "Validation Steps: 130\n",
      "Test Steps: 131\n",
      "\n",
      "Number of Epochs: 25\n",
      "\n",
      "Number of Classes: 4\n"
     ]
    }
   ],
   "source": [
    "input_shape = trainX.shape[1]\n",
    "\n",
    "n_batch_size = 20\n",
    "\n",
    "n_steps_per_epoch = int(trainX.shape[0] / n_batch_size)\n",
    "n_validation_steps = int(valX.shape[0] / n_batch_size)\n",
    "n_test_steps = int(testX.shape[0] / n_batch_size)\n",
    "\n",
    "n_epochs = 25\n",
    "\n",
    "num_classes = trainY.shape[1]\n",
    "\n",
    "print('Input Shape: ' + str(input_shape))\n",
    "print('Batch Size: ' + str(n_batch_size))\n",
    "print()\n",
    "print('Steps per Epoch: ' + str(n_steps_per_epoch))\n",
    "print()\n",
    "print('Validation Steps: ' + str(n_validation_steps))\n",
    "print('Test Steps: ' + str(n_test_steps))\n",
    "print()\n",
    "print('Number of Epochs: ' + str(n_epochs))\n",
    "print()\n",
    "print('Number of Classes: ' + str(num_classes))"
   ]
  },
  {
   "cell_type": "code",
   "execution_count": 99,
   "id": "819181ce",
   "metadata": {},
   "outputs": [],
   "source": [
    "model = models.Sequential()\n",
    "model.add(layers.Dense(64, activation='relu', input_shape=(input_shape,)))\n",
    "model.add(layers.Dense(64, activation='relu'))\n",
    "model.add(layers.Dense(num_classes, activation='softmax'))"
   ]
  },
  {
   "cell_type": "code",
   "execution_count": 100,
   "id": "67097372",
   "metadata": {},
   "outputs": [
    {
     "name": "stdout",
     "output_type": "stream",
     "text": [
      "Model: \"sequential_13\"\n",
      "_________________________________________________________________\n",
      " Layer (type)                Output Shape              Param #   \n",
      "=================================================================\n",
      " dense_27 (Dense)            (None, 64)                320       \n",
      "                                                                 \n",
      " dense_28 (Dense)            (None, 64)                4160      \n",
      "                                                                 \n",
      " dense_29 (Dense)            (None, 4)                 260       \n",
      "                                                                 \n",
      "=================================================================\n",
      "Total params: 4,740\n",
      "Trainable params: 4,740\n",
      "Non-trainable params: 0\n",
      "_________________________________________________________________\n"
     ]
    }
   ],
   "source": [
    "model.summary()"
   ]
  },
  {
   "cell_type": "code",
   "execution_count": 101,
   "id": "39528de4",
   "metadata": {},
   "outputs": [],
   "source": [
    "model.compile(loss='categorical_crossentropy',\n",
    "              optimizer='adam',\n",
    "              metrics=['accuracy'])"
   ]
  },
  {
   "cell_type": "code",
   "execution_count": 102,
   "id": "4a312b73",
   "metadata": {},
   "outputs": [],
   "source": [
    "checkpoint_dir = './checkpoints/'+ checkpoint_no\n",
    "if not os.path.exists(checkpoint_dir):\n",
    "    os.makedirs(checkpoint_dir)"
   ]
  },
  {
   "cell_type": "code",
   "execution_count": 103,
   "id": "abfcb057",
   "metadata": {},
   "outputs": [],
   "source": [
    "keras_callbacks = [ModelCheckpoint(filepath = checkpoint_dir + '/' + model_name, \n",
    "                                   monitor='val_loss', save_best_only=True, mode='auto')]"
   ]
  },
  {
   "cell_type": "code",
   "execution_count": 104,
   "id": "7c35deed",
   "metadata": {},
   "outputs": [
    {
     "name": "stdout",
     "output_type": "stream",
     "text": [
      "Epoch 1/25\n",
      "597/611 [============================>.] - ETA: 0s - loss: 0.3008 - accuracy: 0.9053INFO:tensorflow:Assets written to: ./checkpoints/ckpt_1_ANN\\Consumption_ANN_2FC_F64_64_epoch_25\\assets\n",
      "611/611 [==============================] - 3s 5ms/step - loss: 0.2994 - accuracy: 0.9055 - val_loss: 0.2220 - val_accuracy: 0.9242\n",
      "Epoch 2/25\n",
      "602/611 [============================>.] - ETA: 0s - loss: 0.2106 - accuracy: 0.9237INFO:tensorflow:Assets written to: ./checkpoints/ckpt_1_ANN\\Consumption_ANN_2FC_F64_64_epoch_25\\assets\n",
      "611/611 [==============================] - 3s 4ms/step - loss: 0.2099 - accuracy: 0.9239 - val_loss: 0.2111 - val_accuracy: 0.9238\n",
      "Epoch 3/25\n",
      "594/611 [============================>.] - ETA: 0s - loss: 0.2026 - accuracy: 0.9260INFO:tensorflow:Assets written to: ./checkpoints/ckpt_1_ANN\\Consumption_ANN_2FC_F64_64_epoch_25\\assets\n",
      "611/611 [==============================] - 3s 4ms/step - loss: 0.2023 - accuracy: 0.9261 - val_loss: 0.2040 - val_accuracy: 0.9258\n",
      "Epoch 4/25\n",
      "591/611 [============================>.] - ETA: 0s - loss: 0.1933 - accuracy: 0.9296INFO:tensorflow:Assets written to: ./checkpoints/ckpt_1_ANN\\Consumption_ANN_2FC_F64_64_epoch_25\\assets\n",
      "611/611 [==============================] - 2s 4ms/step - loss: 0.1949 - accuracy: 0.9289 - val_loss: 0.1984 - val_accuracy: 0.9292\n",
      "Epoch 5/25\n",
      "606/611 [============================>.] - ETA: 0s - loss: 0.1876 - accuracy: 0.9317INFO:tensorflow:Assets written to: ./checkpoints/ckpt_1_ANN\\Consumption_ANN_2FC_F64_64_epoch_25\\assets\n",
      "611/611 [==============================] - 2s 4ms/step - loss: 0.1881 - accuracy: 0.9317 - val_loss: 0.1874 - val_accuracy: 0.9335\n",
      "Epoch 6/25\n",
      "591/611 [============================>.] - ETA: 0s - loss: 0.1817 - accuracy: 0.9351INFO:tensorflow:Assets written to: ./checkpoints/ckpt_1_ANN\\Consumption_ANN_2FC_F64_64_epoch_25\\assets\n",
      "611/611 [==============================] - 2s 4ms/step - loss: 0.1817 - accuracy: 0.9350 - val_loss: 0.1831 - val_accuracy: 0.9342\n",
      "Epoch 7/25\n",
      "603/611 [============================>.] - ETA: 0s - loss: 0.1758 - accuracy: 0.9373INFO:tensorflow:Assets written to: ./checkpoints/ckpt_1_ANN\\Consumption_ANN_2FC_F64_64_epoch_25\\assets\n",
      "611/611 [==============================] - 3s 4ms/step - loss: 0.1760 - accuracy: 0.9372 - val_loss: 0.1736 - val_accuracy: 0.9392\n",
      "Epoch 8/25\n",
      "603/611 [============================>.] - ETA: 0s - loss: 0.1686 - accuracy: 0.9395INFO:tensorflow:Assets written to: ./checkpoints/ckpt_1_ANN\\Consumption_ANN_2FC_F64_64_epoch_25\\assets\n",
      "611/611 [==============================] - 3s 5ms/step - loss: 0.1685 - accuracy: 0.9396 - val_loss: 0.1662 - val_accuracy: 0.9419\n",
      "Epoch 9/25\n",
      "606/611 [============================>.] - ETA: 0s - loss: 0.1666 - accuracy: 0.9391INFO:tensorflow:Assets written to: ./checkpoints/ckpt_1_ANN\\Consumption_ANN_2FC_F64_64_epoch_25\\assets\n",
      "611/611 [==============================] - 2s 4ms/step - loss: 0.1669 - accuracy: 0.9392 - val_loss: 0.1623 - val_accuracy: 0.9438\n",
      "Epoch 10/25\n",
      "611/611 [==============================] - 2s 3ms/step - loss: 0.1585 - accuracy: 0.9425 - val_loss: 0.1647 - val_accuracy: 0.9419\n",
      "Epoch 11/25\n",
      "611/611 [==============================] - 2s 3ms/step - loss: 0.1537 - accuracy: 0.9437 - val_loss: 0.1632 - val_accuracy: 0.9458\n",
      "Epoch 12/25\n",
      "604/611 [============================>.] - ETA: 0s - loss: 0.1497 - accuracy: 0.9455INFO:tensorflow:Assets written to: ./checkpoints/ckpt_1_ANN\\Consumption_ANN_2FC_F64_64_epoch_25\\assets\n",
      "611/611 [==============================] - 3s 4ms/step - loss: 0.1493 - accuracy: 0.9457 - val_loss: 0.1529 - val_accuracy: 0.9488\n",
      "Epoch 13/25\n",
      "606/611 [============================>.] - ETA: 0s - loss: 0.1492 - accuracy: 0.9459INFO:tensorflow:Assets written to: ./checkpoints/ckpt_1_ANN\\Consumption_ANN_2FC_F64_64_epoch_25\\assets\n",
      "611/611 [==============================] - 3s 4ms/step - loss: 0.1490 - accuracy: 0.9460 - val_loss: 0.1502 - val_accuracy: 0.9500\n",
      "Epoch 14/25\n",
      "596/611 [============================>.] - ETA: 0s - loss: 0.1445 - accuracy: 0.9475INFO:tensorflow:Assets written to: ./checkpoints/ckpt_1_ANN\\Consumption_ANN_2FC_F64_64_epoch_25\\assets\n",
      "611/611 [==============================] - 2s 4ms/step - loss: 0.1453 - accuracy: 0.9473 - val_loss: 0.1474 - val_accuracy: 0.9481\n",
      "Epoch 15/25\n",
      "609/611 [============================>.] - ETA: 0s - loss: 0.1400 - accuracy: 0.9485INFO:tensorflow:Assets written to: ./checkpoints/ckpt_1_ANN\\Consumption_ANN_2FC_F64_64_epoch_25\\assets\n",
      "611/611 [==============================] - 3s 5ms/step - loss: 0.1405 - accuracy: 0.9484 - val_loss: 0.1387 - val_accuracy: 0.9535\n",
      "Epoch 16/25\n",
      "611/611 [==============================] - 2s 3ms/step - loss: 0.1387 - accuracy: 0.9489 - val_loss: 0.1406 - val_accuracy: 0.9531\n",
      "Epoch 17/25\n",
      "611/611 [==============================] - 2s 3ms/step - loss: 0.1370 - accuracy: 0.9493 - val_loss: 0.1439 - val_accuracy: 0.9512\n",
      "Epoch 18/25\n",
      "611/611 [==============================] - 1s 2ms/step - loss: 0.1362 - accuracy: 0.9486 - val_loss: 0.1399 - val_accuracy: 0.9550\n",
      "Epoch 19/25\n",
      "610/611 [============================>.] - ETA: 0s - loss: 0.1364 - accuracy: 0.9516INFO:tensorflow:Assets written to: ./checkpoints/ckpt_1_ANN\\Consumption_ANN_2FC_F64_64_epoch_25\\assets\n",
      "611/611 [==============================] - 3s 4ms/step - loss: 0.1363 - accuracy: 0.9516 - val_loss: 0.1316 - val_accuracy: 0.9500\n",
      "Epoch 20/25\n",
      "611/611 [==============================] - 2s 3ms/step - loss: 0.1313 - accuracy: 0.9493 - val_loss: 0.1326 - val_accuracy: 0.9558\n",
      "Epoch 21/25\n",
      "611/611 [==============================] - 2s 3ms/step - loss: 0.1310 - accuracy: 0.9498 - val_loss: 0.1348 - val_accuracy: 0.9550\n",
      "Epoch 22/25\n",
      "611/611 [==============================] - 2s 3ms/step - loss: 0.1308 - accuracy: 0.9521 - val_loss: 0.1353 - val_accuracy: 0.9523\n",
      "Epoch 23/25\n",
      "595/611 [============================>.] - ETA: 0s - loss: 0.1314 - accuracy: 0.9514INFO:tensorflow:Assets written to: ./checkpoints/ckpt_1_ANN\\Consumption_ANN_2FC_F64_64_epoch_25\\assets\n",
      "611/611 [==============================] - 3s 4ms/step - loss: 0.1310 - accuracy: 0.9516 - val_loss: 0.1265 - val_accuracy: 0.9550\n",
      "Epoch 24/25\n",
      "611/611 [==============================] - 2s 3ms/step - loss: 0.1259 - accuracy: 0.9531 - val_loss: 0.1364 - val_accuracy: 0.9558\n",
      "Epoch 25/25\n",
      "611/611 [==============================] - 2s 3ms/step - loss: 0.1293 - accuracy: 0.9507 - val_loss: 0.1303 - val_accuracy: 0.9531\n"
     ]
    }
   ],
   "source": [
    "history = model.fit(trainX,\n",
    "                    trainY,\n",
    "                    steps_per_epoch=n_steps_per_epoch,\n",
    "                    epochs=n_epochs,\n",
    "                    batch_size=n_batch_size,\n",
    "                    validation_data=(valX, valY),\n",
    "                    validation_steps=n_validation_steps,\n",
    "                    callbacks=[keras_callbacks])"
   ]
  },
  {
   "cell_type": "code",
   "execution_count": 105,
   "id": "5edb5138",
   "metadata": {},
   "outputs": [
    {
     "data": {
      "text/html": [
       "<div>\n",
       "<style scoped>\n",
       "    .dataframe tbody tr th:only-of-type {\n",
       "        vertical-align: middle;\n",
       "    }\n",
       "\n",
       "    .dataframe tbody tr th {\n",
       "        vertical-align: top;\n",
       "    }\n",
       "\n",
       "    .dataframe thead th {\n",
       "        text-align: right;\n",
       "    }\n",
       "</style>\n",
       "<table border=\"1\" class=\"dataframe\">\n",
       "  <thead>\n",
       "    <tr style=\"text-align: right;\">\n",
       "      <th></th>\n",
       "      <th>epoch</th>\n",
       "      <th>loss</th>\n",
       "      <th>accuracy</th>\n",
       "      <th>val_loss</th>\n",
       "      <th>val_accuracy</th>\n",
       "    </tr>\n",
       "  </thead>\n",
       "  <tbody>\n",
       "    <tr>\n",
       "      <th>0</th>\n",
       "      <td>1</td>\n",
       "      <td>0.299387</td>\n",
       "      <td>0.905483</td>\n",
       "      <td>0.221952</td>\n",
       "      <td>0.924231</td>\n",
       "    </tr>\n",
       "    <tr>\n",
       "      <th>1</th>\n",
       "      <td>2</td>\n",
       "      <td>0.209948</td>\n",
       "      <td>0.923941</td>\n",
       "      <td>0.211093</td>\n",
       "      <td>0.923846</td>\n",
       "    </tr>\n",
       "    <tr>\n",
       "      <th>2</th>\n",
       "      <td>3</td>\n",
       "      <td>0.202293</td>\n",
       "      <td>0.926072</td>\n",
       "      <td>0.203965</td>\n",
       "      <td>0.925769</td>\n",
       "    </tr>\n",
       "    <tr>\n",
       "      <th>3</th>\n",
       "      <td>4</td>\n",
       "      <td>0.194851</td>\n",
       "      <td>0.928940</td>\n",
       "      <td>0.198374</td>\n",
       "      <td>0.929231</td>\n",
       "    </tr>\n",
       "    <tr>\n",
       "      <th>4</th>\n",
       "      <td>5</td>\n",
       "      <td>0.188087</td>\n",
       "      <td>0.931727</td>\n",
       "      <td>0.187393</td>\n",
       "      <td>0.933462</td>\n",
       "    </tr>\n",
       "  </tbody>\n",
       "</table>\n",
       "</div>"
      ],
      "text/plain": [
       "   epoch      loss  accuracy  val_loss  val_accuracy\n",
       "0      1  0.299387  0.905483  0.221952      0.924231\n",
       "1      2  0.209948  0.923941  0.211093      0.923846\n",
       "2      3  0.202293  0.926072  0.203965      0.925769\n",
       "3      4  0.194851  0.928940  0.198374      0.929231\n",
       "4      5  0.188087  0.931727  0.187393      0.933462"
      ]
     },
     "execution_count": 105,
     "metadata": {},
     "output_type": "execute_result"
    }
   ],
   "source": [
    "hist_df = pd.DataFrame(history.history)\n",
    "hist_df['epoch'] = hist_df.index + 1\n",
    "cols = list(hist_df.columns)\n",
    "cols = [cols[-1]] + cols[:-1]\n",
    "hist_df = hist_df[cols]\n",
    "hist_df.to_csv(\"./checkpoints/\" +checkpoint_no + '/' + 'history_df_' + model_name + '.csv')\n",
    "hist_df.head()"
   ]
  },
  {
   "cell_type": "code",
   "execution_count": 106,
   "id": "e065c688",
   "metadata": {},
   "outputs": [
    {
     "data": {
      "text/html": [
       "<div>\n",
       "<style scoped>\n",
       "    .dataframe tbody tr th:only-of-type {\n",
       "        vertical-align: middle;\n",
       "    }\n",
       "\n",
       "    .dataframe tbody tr th {\n",
       "        vertical-align: top;\n",
       "    }\n",
       "\n",
       "    .dataframe thead th {\n",
       "        text-align: right;\n",
       "    }\n",
       "</style>\n",
       "<table border=\"1\" class=\"dataframe\">\n",
       "  <thead>\n",
       "    <tr style=\"text-align: right;\">\n",
       "      <th></th>\n",
       "      <th>epoch</th>\n",
       "      <th>loss</th>\n",
       "      <th>accuracy</th>\n",
       "      <th>val_loss</th>\n",
       "      <th>val_accuracy</th>\n",
       "    </tr>\n",
       "  </thead>\n",
       "  <tbody>\n",
       "    <tr>\n",
       "      <th>22</th>\n",
       "      <td>23</td>\n",
       "      <td>0.130969</td>\n",
       "      <td>0.951643</td>\n",
       "      <td>0.126505</td>\n",
       "      <td>0.955</td>\n",
       "    </tr>\n",
       "  </tbody>\n",
       "</table>\n",
       "</div>"
      ],
      "text/plain": [
       "    epoch      loss  accuracy  val_loss  val_accuracy\n",
       "22     23  0.130969  0.951643  0.126505         0.955"
      ]
     },
     "execution_count": 106,
     "metadata": {},
     "output_type": "execute_result"
    }
   ],
   "source": [
    "values_of_best_model = hist_df[hist_df.val_loss == hist_df.val_loss.min()]\n",
    "values_of_best_model"
   ]
  },
  {
   "cell_type": "code",
   "execution_count": 107,
   "id": "4a8463ff",
   "metadata": {},
   "outputs": [
    {
     "name": "stdout",
     "output_type": "stream",
     "text": [
      "Class assignment:\n"
     ]
    },
    {
     "data": {
      "text/plain": [
       "{0: array([1., 0., 0., 0.]),\n",
       " 3: array([0., 0., 0., 1.]),\n",
       " 1: array([0., 1., 0., 0.]),\n",
       " 2: array([0., 0., 1., 0.])}"
      ]
     },
     "execution_count": 107,
     "metadata": {},
     "output_type": "execute_result"
    }
   ],
   "source": [
    "class_assignment = dict(zip(y, encoded_Y))\n",
    "\n",
    "df_temp = pd.DataFrame([class_assignment], columns=class_assignment.keys())\n",
    "df_temp = df_temp.stack()\n",
    "df_temp = pd.DataFrame(df_temp).reset_index().drop(['level_0'], axis=1)\n",
    "df_temp.columns = ['Category', 'Allocated Number']\n",
    "\n",
    "df_temp.to_csv(\"./checkpoints/\"+checkpoint_no + '/' + 'class_assignment_df_' + model_name + '.csv')\n",
    "\n",
    "print('Class assignment:')\n",
    "class_assignment"
   ]
  },
  {
   "cell_type": "code",
   "execution_count": 108,
   "id": "e9c00972",
   "metadata": {},
   "outputs": [],
   "source": [
    "pk.dump(encoder, open(\"./checkpoints/\" + checkpoint_no + '/' + 'encoder.pkl', 'wb'))"
   ]
  },
  {
   "cell_type": "code",
   "execution_count": 109,
   "id": "a86ea8f9",
   "metadata": {},
   "outputs": [
    {
     "data": {
      "image/png": "[encoded data removed]",
      "text/plain": [
       "<Figure size 432x288 with 1 Axes>"
      ]
     },
     "metadata": {
      "needs_background": "light"
     },
     "output_type": "display_data"
    },
    {
     "data": {
      "image/png": "[encoded data removed]",
      "text/plain": [
       "<Figure size 432x288 with 1 Axes>"
      ]
     },
     "metadata": {
      "needs_background": "light"
     },
     "output_type": "display_data"
    }
   ],
   "source": [
    "acc = history.history['accuracy']\n",
    "val_acc = history.history['val_accuracy']\n",
    "loss = history.history['loss']\n",
    "val_loss = history.history['val_loss']\n",
    "\n",
    "epochs = range(1, len(acc) + 1)\n",
    "\n",
    "plt.plot(epochs, acc, 'bo', label='Training acc')\n",
    "plt.plot(epochs, val_acc, 'b', label='Validation acc')\n",
    "plt.title('Training and validation accuracy')\n",
    "plt.legend()\n",
    "\n",
    "plt.figure()\n",
    "\n",
    "plt.plot(epochs, loss, 'bo', label='Training loss')\n",
    "plt.plot(epochs, val_loss, 'b', label='Validation loss')\n",
    "plt.title('Training and validation loss')\n",
    "plt.legend()\n",
    "\n",
    "plt.show()"
   ]
  },
  {
   "cell_type": "code",
   "execution_count": 110,
   "id": "42d049c6",
   "metadata": {},
   "outputs": [],
   "source": [
    "# Loading the automatically saved model\n",
    "model_reloaded = load_model(\"./checkpoints/\"+checkpoint_no + '/' + model_name)\n",
    "\n",
    "# Saving the best model in the correct path and format\n",
    "root_directory = os.getcwd()\n",
    "checkpoint_dir = os.path.join(root_directory, checkpoint_no)\n",
    "model_name_temp = os.path.join(checkpoint_dir, model_name + '.h5')\n",
    "model_reloaded.save(model_name_temp)\n",
    "\n",
    "# Deletion of the automatically created folder under Model Checkpoint File.\n",
    "folder_name_temp = os.path.join(checkpoint_dir, model_name)\n",
    "shutil.rmtree(folder_name_temp, ignore_errors=True)"
   ]
  },
  {
   "cell_type": "code",
   "execution_count": 111,
   "id": "138b37db",
   "metadata": {},
   "outputs": [],
   "source": [
    "best_model = load_model(model_name_temp)"
   ]
  },
  {
   "cell_type": "code",
   "execution_count": 112,
   "id": "6088e132",
   "metadata": {},
   "outputs": [
    {
     "name": "stdout",
     "output_type": "stream",
     "text": [
      "131/131 [==============================] - 0s 2ms/step - loss: 0.1365 - accuracy: 0.9500\n",
      "\n",
      "Test Accuracy: 0.949999988079071\n"
     ]
    }
   ],
   "source": [
    "test_loss, test_acc = best_model.evaluate(testX,\n",
    "                                          testY,\n",
    "                                          steps=n_test_steps)\n",
    "print()\n",
    "print('Test Accuracy:', test_acc)"
   ]
  },
  {
   "cell_type": "code",
   "execution_count": 121,
   "id": "9246b54d",
   "metadata": {},
   "outputs": [],
   "source": [
    "import sys\n",
    "import numpy\n",
    "numpy.set_printoptions(threshold=sys.maxsize)"
   ]
  },
  {
   "cell_type": "code",
   "execution_count": 123,
   "id": "46eaff2a",
   "metadata": {},
   "outputs": [
    {
     "name": "stdout",
     "output_type": "stream",
     "text": [
      "82/82 [==============================] - 1s 4ms/step\n"
     ]
    },
    {
     "data": {
      "text/plain": [
       "array([[9.9961925e-01, 3.8018523e-04, 2.3551479e-09, 5.7011960e-07],\n",
       "       [9.9996185e-01, 2.9307423e-05, 8.8664510e-06, 1.0933741e-10],\n",
       "       [1.0000000e+00, 4.3529923e-11, 2.7474676e-18, 3.8126365e-24],\n",
       "       [9.9316251e-01, 5.9252740e-03, 8.1724027e-04, 9.4973504e-05],\n",
       "       [9.9960572e-01, 3.4925187e-04, 1.7474120e-05, 2.7536069e-05]],\n",
       "      dtype=float32)"
      ]
     },
     "execution_count": 123,
     "metadata": {},
     "output_type": "execute_result"
    }
   ],
   "source": [
    "y_pred = model.predict(testX)\n",
    "y_pred[:5]"
   ]
  },
  {
   "cell_type": "code",
   "execution_count": 114,
   "id": "8c9eee2b",
   "metadata": {},
   "outputs": [
    {
     "data": {
      "text/html": [
       "<div>\n",
       "<style scoped>\n",
       "    .dataframe tbody tr th:only-of-type {\n",
       "        vertical-align: middle;\n",
       "    }\n",
       "\n",
       "    .dataframe tbody tr th {\n",
       "        vertical-align: top;\n",
       "    }\n",
       "\n",
       "    .dataframe thead th {\n",
       "        text-align: right;\n",
       "    }\n",
       "</style>\n",
       "<table border=\"1\" class=\"dataframe\">\n",
       "  <thead>\n",
       "    <tr style=\"text-align: right;\">\n",
       "      <th></th>\n",
       "      <th>PC1</th>\n",
       "      <th>PC2</th>\n",
       "      <th>PC3</th>\n",
       "      <th>PC4</th>\n",
       "    </tr>\n",
       "  </thead>\n",
       "  <tbody>\n",
       "    <tr>\n",
       "      <th>16417</th>\n",
       "      <td>0.345885</td>\n",
       "      <td>-3.341976</td>\n",
       "      <td>-0.695332</td>\n",
       "      <td>0.288666</td>\n",
       "    </tr>\n",
       "    <tr>\n",
       "      <th>2854</th>\n",
       "      <td>-1.748944</td>\n",
       "      <td>-0.163722</td>\n",
       "      <td>0.856164</td>\n",
       "      <td>-0.751956</td>\n",
       "    </tr>\n",
       "    <tr>\n",
       "      <th>3341</th>\n",
       "      <td>-1.189987</td>\n",
       "      <td>-0.293923</td>\n",
       "      <td>-0.554588</td>\n",
       "      <td>0.855953</td>\n",
       "    </tr>\n",
       "    <tr>\n",
       "      <th>6613</th>\n",
       "      <td>2.621908</td>\n",
       "      <td>1.658528</td>\n",
       "      <td>-0.525549</td>\n",
       "      <td>-0.723336</td>\n",
       "    </tr>\n",
       "    <tr>\n",
       "      <th>14238</th>\n",
       "      <td>0.482081</td>\n",
       "      <td>-0.366635</td>\n",
       "      <td>-0.353075</td>\n",
       "      <td>0.429460</td>\n",
       "    </tr>\n",
       "  </tbody>\n",
       "</table>\n",
       "</div>"
      ],
      "text/plain": [
       "            PC1       PC2       PC3       PC4\n",
       "16417  0.345885 -3.341976 -0.695332  0.288666\n",
       "2854  -1.748944 -0.163722  0.856164 -0.751956\n",
       "3341  -1.189987 -0.293923 -0.554588  0.855953\n",
       "6613   2.621908  1.658528 -0.525549 -0.723336\n",
       "14238  0.482081 -0.366635 -0.353075  0.429460"
      ]
     },
     "execution_count": 114,
     "metadata": {},
     "output_type": "execute_result"
    }
   ],
   "source": [
    "testX[:5]"
   ]
  },
  {
   "cell_type": "markdown",
   "id": "de250d8c",
   "metadata": {},
   "source": [
    "# Consumption Data with Known Variables"
   ]
  },
  {
   "cell_type": "code",
   "execution_count": 131,
   "id": "b4f075ab",
   "metadata": {},
   "outputs": [
    {
     "name": "stdout",
     "output_type": "stream",
     "text": [
      "\n",
      "Shape of dataframe:\n",
      "(17460, 9)\n",
      "\n",
      "Head of dataframe:\n"
     ]
    },
    {
     "data": {
      "text/html": [
       "<div>\n",
       "<style scoped>\n",
       "    .dataframe tbody tr th:only-of-type {\n",
       "        vertical-align: middle;\n",
       "    }\n",
       "\n",
       "    .dataframe tbody tr th {\n",
       "        vertical-align: top;\n",
       "    }\n",
       "\n",
       "    .dataframe thead th {\n",
       "        text-align: right;\n",
       "    }\n",
       "</style>\n",
       "<table border=\"1\" class=\"dataframe\">\n",
       "  <thead>\n",
       "    <tr style=\"text-align: right;\">\n",
       "      <th></th>\n",
       "      <th>AC(kW)</th>\n",
       "      <th>Lighting(kW)</th>\n",
       "      <th>Plug(kW)</th>\n",
       "      <th>Temperature(C)</th>\n",
       "      <th>Relative Humidity(%)</th>\n",
       "      <th>Ambient Light(lux)</th>\n",
       "      <th>isWeekend</th>\n",
       "      <th>Season</th>\n",
       "      <th>AnomalyType</th>\n",
       "    </tr>\n",
       "  </thead>\n",
       "  <tbody>\n",
       "    <tr>\n",
       "      <th>0</th>\n",
       "      <td>0.01</td>\n",
       "      <td>0.0</td>\n",
       "      <td>0.02</td>\n",
       "      <td>28.23</td>\n",
       "      <td>64.42</td>\n",
       "      <td>0</td>\n",
       "      <td>1</td>\n",
       "      <td>1</td>\n",
       "      <td>0</td>\n",
       "    </tr>\n",
       "    <tr>\n",
       "      <th>1</th>\n",
       "      <td>0.01</td>\n",
       "      <td>0.0</td>\n",
       "      <td>0.05</td>\n",
       "      <td>28.30</td>\n",
       "      <td>64.52</td>\n",
       "      <td>0</td>\n",
       "      <td>1</td>\n",
       "      <td>1</td>\n",
       "      <td>0</td>\n",
       "    </tr>\n",
       "    <tr>\n",
       "      <th>2</th>\n",
       "      <td>0.01</td>\n",
       "      <td>0.0</td>\n",
       "      <td>0.02</td>\n",
       "      <td>28.13</td>\n",
       "      <td>65.33</td>\n",
       "      <td>0</td>\n",
       "      <td>1</td>\n",
       "      <td>1</td>\n",
       "      <td>0</td>\n",
       "    </tr>\n",
       "    <tr>\n",
       "      <th>3</th>\n",
       "      <td>0.01</td>\n",
       "      <td>0.0</td>\n",
       "      <td>0.06</td>\n",
       "      <td>28.11</td>\n",
       "      <td>65.52</td>\n",
       "      <td>0</td>\n",
       "      <td>1</td>\n",
       "      <td>1</td>\n",
       "      <td>0</td>\n",
       "    </tr>\n",
       "    <tr>\n",
       "      <th>4</th>\n",
       "      <td>0.01</td>\n",
       "      <td>0.0</td>\n",
       "      <td>0.07</td>\n",
       "      <td>28.12</td>\n",
       "      <td>65.84</td>\n",
       "      <td>0</td>\n",
       "      <td>1</td>\n",
       "      <td>1</td>\n",
       "      <td>0</td>\n",
       "    </tr>\n",
       "  </tbody>\n",
       "</table>\n",
       "</div>"
      ],
      "text/plain": [
       "   AC(kW)  Lighting(kW)  Plug(kW)  Temperature(C)  Relative Humidity(%)  \\\n",
       "0    0.01           0.0      0.02           28.23                 64.42   \n",
       "1    0.01           0.0      0.05           28.30                 64.52   \n",
       "2    0.01           0.0      0.02           28.13                 65.33   \n",
       "3    0.01           0.0      0.06           28.11                 65.52   \n",
       "4    0.01           0.0      0.07           28.12                 65.84   \n",
       "\n",
       "   Ambient Light(lux)  isWeekend  Season  AnomalyType  \n",
       "0                   0          1       1            0  \n",
       "1                   0          1       1            0  \n",
       "2                   0          1       1            0  \n",
       "3                   0          1       1            0  \n",
       "4                   0          1       1            0  "
      ]
     },
     "execution_count": 131,
     "metadata": {},
     "output_type": "execute_result"
    }
   ],
   "source": [
    "df = pd.read_csv('consumption_known_vars.csv')\n",
    "df.drop(\"Unnamed: 0\", axis=1, inplace=True)\n",
    "\n",
    "print()\n",
    "print('Shape of dataframe:')\n",
    "print(str(df.shape))\n",
    "print()\n",
    "print('Head of dataframe:')\n",
    "df.head()"
   ]
  },
  {
   "cell_type": "code",
   "execution_count": 132,
   "id": "862fbf2e",
   "metadata": {},
   "outputs": [],
   "source": [
    "x = df.drop('AnomalyType', axis=1)\n",
    "y = df['AnomalyType']"
   ]
  },
  {
   "cell_type": "code",
   "execution_count": 135,
   "id": "6f3fac83",
   "metadata": {
    "scrolled": true
   },
   "outputs": [
    {
     "data": {
      "text/plain": [
       "array([[1., 0., 0., 0.],\n",
       "       [1., 0., 0., 0.],\n",
       "       [1., 0., 0., 0.],\n",
       "       ...,\n",
       "       [1., 0., 0., 0.],\n",
       "       [1., 0., 0., 0.],\n",
       "       [1., 0., 0., 0.]])"
      ]
     },
     "execution_count": 135,
     "metadata": {},
     "output_type": "execute_result"
    }
   ],
   "source": [
    "numpy.set_printoptions(threshold=10)\n",
    "\n",
    "encoder = OneHotEncoder()\n",
    "\n",
    "encoded_Y = encoder.fit(y.values.reshape(-1,1))\n",
    "encoded_Y = encoded_Y.transform(y.values.reshape(-1,1)).toarray()\n",
    "\n",
    "encoded_Y"
   ]
  },
  {
   "cell_type": "code",
   "execution_count": 136,
   "id": "af6dfd84",
   "metadata": {},
   "outputs": [],
   "source": [
    "train_ratio = 0.70\n",
    "validation_ratio = 0.15\n",
    "test_ratio = 0.15\n",
    "\n",
    "# Generate TrainX and TrainY\n",
    "trainX, testX, trainY, testY = train_test_split(x, encoded_Y, test_size= 1 - train_ratio)\n",
    "# Genearate ValX, TestX, ValY and TestY\n",
    "valX, testX, valY, testY = train_test_split(testX, testY, test_size=test_ratio/(test_ratio + validation_ratio))"
   ]
  },
  {
   "cell_type": "code",
   "execution_count": 137,
   "id": "74bc19bc",
   "metadata": {},
   "outputs": [
    {
     "name": "stdout",
     "output_type": "stream",
     "text": [
      "(12221, 8)\n",
      "(2619, 8)\n",
      "(2620, 8)\n"
     ]
    }
   ],
   "source": [
    "print(trainX.shape)\n",
    "print(valX.shape)\n",
    "print(testX.shape)"
   ]
  },
  {
   "cell_type": "code",
   "execution_count": 138,
   "id": "a37b87af",
   "metadata": {},
   "outputs": [
    {
     "data": {
      "text/html": [
       "<div>\n",
       "<style scoped>\n",
       "    .dataframe tbody tr th:only-of-type {\n",
       "        vertical-align: middle;\n",
       "    }\n",
       "\n",
       "    .dataframe tbody tr th {\n",
       "        vertical-align: top;\n",
       "    }\n",
       "\n",
       "    .dataframe thead th {\n",
       "        text-align: right;\n",
       "    }\n",
       "</style>\n",
       "<table border=\"1\" class=\"dataframe\">\n",
       "  <thead>\n",
       "    <tr style=\"text-align: right;\">\n",
       "      <th></th>\n",
       "      <th>unique_elements</th>\n",
       "      <th>count</th>\n",
       "    </tr>\n",
       "  </thead>\n",
       "  <tbody>\n",
       "    <tr>\n",
       "      <th>0</th>\n",
       "      <td>0</td>\n",
       "      <td>11064</td>\n",
       "    </tr>\n",
       "    <tr>\n",
       "      <th>1</th>\n",
       "      <td>1</td>\n",
       "      <td>329</td>\n",
       "    </tr>\n",
       "    <tr>\n",
       "      <th>2</th>\n",
       "      <td>2</td>\n",
       "      <td>318</td>\n",
       "    </tr>\n",
       "    <tr>\n",
       "      <th>3</th>\n",
       "      <td>3</td>\n",
       "      <td>510</td>\n",
       "    </tr>\n",
       "  </tbody>\n",
       "</table>\n",
       "</div>"
      ],
      "text/plain": [
       "   unique_elements  count\n",
       "0                0  11064\n",
       "1                1    329\n",
       "2                2    318\n",
       "3                3    510"
      ]
     },
     "execution_count": 138,
     "metadata": {},
     "output_type": "execute_result"
    }
   ],
   "source": [
    "re_transformed_array_trainY = encoder.inverse_transform(trainY)\n",
    "\n",
    "unique_elements, counts_elements = np.unique(re_transformed_array_trainY, return_counts=True)\n",
    "unique_elements_and_counts_trainY = pd.DataFrame(np.asarray((unique_elements, counts_elements)).T)\n",
    "unique_elements_and_counts_trainY.columns = ['unique_elements', 'count']\n",
    "\n",
    "unique_elements_and_counts_trainY"
   ]
  },
  {
   "cell_type": "code",
   "execution_count": 139,
   "id": "84690f85",
   "metadata": {},
   "outputs": [
    {
     "data": {
      "text/html": [
       "<div>\n",
       "<style scoped>\n",
       "    .dataframe tbody tr th:only-of-type {\n",
       "        vertical-align: middle;\n",
       "    }\n",
       "\n",
       "    .dataframe tbody tr th {\n",
       "        vertical-align: top;\n",
       "    }\n",
       "\n",
       "    .dataframe thead th {\n",
       "        text-align: right;\n",
       "    }\n",
       "</style>\n",
       "<table border=\"1\" class=\"dataframe\">\n",
       "  <thead>\n",
       "    <tr style=\"text-align: right;\">\n",
       "      <th></th>\n",
       "      <th>unique_elements</th>\n",
       "      <th>count</th>\n",
       "    </tr>\n",
       "  </thead>\n",
       "  <tbody>\n",
       "    <tr>\n",
       "      <th>0</th>\n",
       "      <td>0</td>\n",
       "      <td>2368</td>\n",
       "    </tr>\n",
       "    <tr>\n",
       "      <th>1</th>\n",
       "      <td>1</td>\n",
       "      <td>68</td>\n",
       "    </tr>\n",
       "    <tr>\n",
       "      <th>2</th>\n",
       "      <td>2</td>\n",
       "      <td>75</td>\n",
       "    </tr>\n",
       "    <tr>\n",
       "      <th>3</th>\n",
       "      <td>3</td>\n",
       "      <td>108</td>\n",
       "    </tr>\n",
       "  </tbody>\n",
       "</table>\n",
       "</div>"
      ],
      "text/plain": [
       "   unique_elements  count\n",
       "0                0   2368\n",
       "1                1     68\n",
       "2                2     75\n",
       "3                3    108"
      ]
     },
     "execution_count": 139,
     "metadata": {},
     "output_type": "execute_result"
    }
   ],
   "source": [
    "re_transformed_array_valY = encoder.inverse_transform(valY)\n",
    "\n",
    "unique_elements, counts_elements = np.unique(re_transformed_array_valY, return_counts=True)\n",
    "unique_elements_and_counts_valY = pd.DataFrame(np.asarray((unique_elements, counts_elements)).T)\n",
    "unique_elements_and_counts_valY.columns = ['unique_elements', 'count']\n",
    "\n",
    "unique_elements_and_counts_valY"
   ]
  },
  {
   "cell_type": "code",
   "execution_count": 140,
   "id": "22099c27",
   "metadata": {},
   "outputs": [
    {
     "data": {
      "text/html": [
       "<div>\n",
       "<style scoped>\n",
       "    .dataframe tbody tr th:only-of-type {\n",
       "        vertical-align: middle;\n",
       "    }\n",
       "\n",
       "    .dataframe tbody tr th {\n",
       "        vertical-align: top;\n",
       "    }\n",
       "\n",
       "    .dataframe thead th {\n",
       "        text-align: right;\n",
       "    }\n",
       "</style>\n",
       "<table border=\"1\" class=\"dataframe\">\n",
       "  <thead>\n",
       "    <tr style=\"text-align: right;\">\n",
       "      <th></th>\n",
       "      <th>unique_elements</th>\n",
       "      <th>count</th>\n",
       "    </tr>\n",
       "  </thead>\n",
       "  <tbody>\n",
       "    <tr>\n",
       "      <th>0</th>\n",
       "      <td>0</td>\n",
       "      <td>2374</td>\n",
       "    </tr>\n",
       "    <tr>\n",
       "      <th>1</th>\n",
       "      <td>1</td>\n",
       "      <td>63</td>\n",
       "    </tr>\n",
       "    <tr>\n",
       "      <th>2</th>\n",
       "      <td>2</td>\n",
       "      <td>78</td>\n",
       "    </tr>\n",
       "    <tr>\n",
       "      <th>3</th>\n",
       "      <td>3</td>\n",
       "      <td>105</td>\n",
       "    </tr>\n",
       "  </tbody>\n",
       "</table>\n",
       "</div>"
      ],
      "text/plain": [
       "   unique_elements  count\n",
       "0                0   2374\n",
       "1                1     63\n",
       "2                2     78\n",
       "3                3    105"
      ]
     },
     "execution_count": 140,
     "metadata": {},
     "output_type": "execute_result"
    }
   ],
   "source": [
    "re_transformed_array_testY = encoder.inverse_transform(testY)\n",
    "\n",
    "unique_elements, counts_elements = np.unique(re_transformed_array_testY, return_counts=True)\n",
    "unique_elements_and_counts_testY = pd.DataFrame(np.asarray((unique_elements, counts_elements)).T)\n",
    "unique_elements_and_counts_testY.columns = ['unique_elements', 'count']\n",
    "\n",
    "unique_elements_and_counts_testY"
   ]
  },
  {
   "cell_type": "code",
   "execution_count": 141,
   "id": "f4d64e08",
   "metadata": {},
   "outputs": [],
   "source": [
    "checkpoint_no = 'ckpt_1_ANN'\n",
    "model_name = 'Consumption_known_vars_ANN_2FC_F64_64_epoch_25'"
   ]
  },
  {
   "cell_type": "code",
   "execution_count": 142,
   "id": "677026d0",
   "metadata": {},
   "outputs": [
    {
     "name": "stdout",
     "output_type": "stream",
     "text": [
      "Input Shape: 8\n",
      "Batch Size: 20\n",
      "\n",
      "Steps per Epoch: 611\n",
      "\n",
      "Validation Steps: 130\n",
      "Test Steps: 131\n",
      "\n",
      "Number of Epochs: 25\n",
      "\n",
      "Number of Classes: 4\n"
     ]
    }
   ],
   "source": [
    "input_shape = trainX.shape[1]\n",
    "\n",
    "n_batch_size = 20\n",
    "\n",
    "n_steps_per_epoch = int(trainX.shape[0] / n_batch_size)\n",
    "n_validation_steps = int(valX.shape[0] / n_batch_size)\n",
    "n_test_steps = int(testX.shape[0] / n_batch_size)\n",
    "\n",
    "n_epochs = 25\n",
    "\n",
    "num_classes = trainY.shape[1]\n",
    "\n",
    "print('Input Shape: ' + str(input_shape))\n",
    "print('Batch Size: ' + str(n_batch_size))\n",
    "print()\n",
    "print('Steps per Epoch: ' + str(n_steps_per_epoch))\n",
    "print()\n",
    "print('Validation Steps: ' + str(n_validation_steps))\n",
    "print('Test Steps: ' + str(n_test_steps))\n",
    "print()\n",
    "print('Number of Epochs: ' + str(n_epochs))\n",
    "print()\n",
    "print('Number of Classes: ' + str(num_classes))"
   ]
  },
  {
   "cell_type": "code",
   "execution_count": 143,
   "id": "17bbe3d0",
   "metadata": {},
   "outputs": [],
   "source": [
    "model = models.Sequential()\n",
    "model.add(layers.Dense(64, activation='relu', input_shape=(input_shape,)))\n",
    "model.add(layers.Dense(64, activation='relu'))\n",
    "model.add(layers.Dense(num_classes, activation='softmax'))"
   ]
  },
  {
   "cell_type": "code",
   "execution_count": 144,
   "id": "0708d136",
   "metadata": {},
   "outputs": [
    {
     "name": "stdout",
     "output_type": "stream",
     "text": [
      "Model: \"sequential_14\"\n",
      "_________________________________________________________________\n",
      " Layer (type)                Output Shape              Param #   \n",
      "=================================================================\n",
      " dense_30 (Dense)            (None, 64)                576       \n",
      "                                                                 \n",
      " dense_31 (Dense)            (None, 64)                4160      \n",
      "                                                                 \n",
      " dense_32 (Dense)            (None, 4)                 260       \n",
      "                                                                 \n",
      "=================================================================\n",
      "Total params: 4,996\n",
      "Trainable params: 4,996\n",
      "Non-trainable params: 0\n",
      "_________________________________________________________________\n"
     ]
    }
   ],
   "source": [
    "model.summary()"
   ]
  },
  {
   "cell_type": "code",
   "execution_count": 145,
   "id": "c0f2996d",
   "metadata": {},
   "outputs": [],
   "source": [
    "model.compile(loss='categorical_crossentropy',\n",
    "              optimizer='adam',\n",
    "              metrics=['accuracy'])"
   ]
  },
  {
   "cell_type": "code",
   "execution_count": 146,
   "id": "887ef913",
   "metadata": {},
   "outputs": [],
   "source": [
    "checkpoint_dir = './checkpoints/'+ checkpoint_no\n",
    "if not os.path.exists(checkpoint_dir):\n",
    "    os.makedirs(checkpoint_dir)"
   ]
  },
  {
   "cell_type": "code",
   "execution_count": 147,
   "id": "cc401db8",
   "metadata": {},
   "outputs": [],
   "source": [
    "keras_callbacks = [ModelCheckpoint(filepath = checkpoint_dir + '/' + model_name, \n",
    "                                   monitor='val_loss', save_best_only=True, mode='auto')]"
   ]
  },
  {
   "cell_type": "code",
   "execution_count": 148,
   "id": "140464ac",
   "metadata": {},
   "outputs": [
    {
     "name": "stdout",
     "output_type": "stream",
     "text": [
      "Epoch 1/25\n",
      "610/611 [============================>.] - ETA: 0s - loss: 0.5214 - accuracy: 0.8952INFO:tensorflow:Assets written to: ./checkpoints/ckpt_1_ANN\\Consumption_known_vars_ANN_2FC_F64_64_epoch_25\\assets\n",
      "611/611 [==============================] - 3s 4ms/step - loss: 0.5213 - accuracy: 0.8951 - val_loss: 0.3298 - val_accuracy: 0.9062\n",
      "Epoch 2/25\n",
      "609/611 [============================>.] - ETA: 0s - loss: 0.3305 - accuracy: 0.9063INFO:tensorflow:Assets written to: ./checkpoints/ckpt_1_ANN\\Consumption_known_vars_ANN_2FC_F64_64_epoch_25\\assets\n",
      "611/611 [==============================] - 2s 3ms/step - loss: 0.3303 - accuracy: 0.9063 - val_loss: 0.2660 - val_accuracy: 0.9096\n",
      "Epoch 3/25\n",
      "611/611 [==============================] - 2s 3ms/step - loss: 0.2763 - accuracy: 0.9166 - val_loss: 0.4074 - val_accuracy: 0.9069\n",
      "Epoch 4/25\n",
      "596/611 [============================>.] - ETA: 0s - loss: 0.2429 - accuracy: 0.9250INFO:tensorflow:Assets written to: ./checkpoints/ckpt_1_ANN\\Consumption_known_vars_ANN_2FC_F64_64_epoch_25\\assets\n",
      "611/611 [==============================] - 2s 3ms/step - loss: 0.2426 - accuracy: 0.9253 - val_loss: 0.2012 - val_accuracy: 0.9285\n",
      "Epoch 5/25\n",
      "611/611 [==============================] - 1s 2ms/step - loss: 0.2206 - accuracy: 0.9298 - val_loss: 0.2049 - val_accuracy: 0.9392\n",
      "Epoch 6/25\n",
      "599/611 [============================>.] - ETA: 0s - loss: 0.1964 - accuracy: 0.9357INFO:tensorflow:Assets written to: ./checkpoints/ckpt_1_ANN\\Consumption_known_vars_ANN_2FC_F64_64_epoch_25\\assets\n",
      "611/611 [==============================] - 2s 3ms/step - loss: 0.1967 - accuracy: 0.9355 - val_loss: 0.1596 - val_accuracy: 0.9465\n",
      "Epoch 7/25\n",
      "603/611 [============================>.] - ETA: 0s - loss: 0.1826 - accuracy: 0.9415INFO:tensorflow:Assets written to: ./checkpoints/ckpt_1_ANN\\Consumption_known_vars_ANN_2FC_F64_64_epoch_25\\assets\n",
      "611/611 [==============================] - 2s 3ms/step - loss: 0.1822 - accuracy: 0.9416 - val_loss: 0.1440 - val_accuracy: 0.9465\n",
      "Epoch 8/25\n",
      "603/611 [============================>.] - ETA: 0s - loss: 0.1681 - accuracy: 0.9411INFO:tensorflow:Assets written to: ./checkpoints/ckpt_1_ANN\\Consumption_known_vars_ANN_2FC_F64_64_epoch_25\\assets\n",
      "611/611 [==============================] - 3s 5ms/step - loss: 0.1674 - accuracy: 0.9414 - val_loss: 0.1299 - val_accuracy: 0.9481\n",
      "Epoch 9/25\n",
      "611/611 [==============================] - 1s 2ms/step - loss: 0.1563 - accuracy: 0.9459 - val_loss: 0.1389 - val_accuracy: 0.9573\n",
      "Epoch 10/25\n",
      "591/611 [============================>.] - ETA: 0s - loss: 0.1460 - accuracy: 0.9483INFO:tensorflow:Assets written to: ./checkpoints/ckpt_1_ANN\\Consumption_known_vars_ANN_2FC_F64_64_epoch_25\\assets\n",
      "611/611 [==============================] - 2s 4ms/step - loss: 0.1451 - accuracy: 0.9484 - val_loss: 0.1023 - val_accuracy: 0.9565\n",
      "Epoch 11/25\n",
      "611/611 [==============================] - 2s 3ms/step - loss: 0.1300 - accuracy: 0.9530 - val_loss: 0.1133 - val_accuracy: 0.9631\n",
      "Epoch 12/25\n",
      "597/611 [============================>.] - ETA: 0s - loss: 0.1225 - accuracy: 0.9533INFO:tensorflow:Assets written to: ./checkpoints/ckpt_1_ANN\\Consumption_known_vars_ANN_2FC_F64_64_epoch_25\\assets\n",
      "611/611 [==============================] - 2s 3ms/step - loss: 0.1224 - accuracy: 0.9534 - val_loss: 0.0996 - val_accuracy: 0.9608\n",
      "Epoch 13/25\n",
      "594/611 [============================>.] - ETA: 0s - loss: 0.1102 - accuracy: 0.9596INFO:tensorflow:Assets written to: ./checkpoints/ckpt_1_ANN\\Consumption_known_vars_ANN_2FC_F64_64_epoch_25\\assets\n",
      "611/611 [==============================] - 3s 5ms/step - loss: 0.1107 - accuracy: 0.9594 - val_loss: 0.0818 - val_accuracy: 0.9685\n",
      "Epoch 14/25\n",
      "611/611 [==============================] - 1s 2ms/step - loss: 0.1096 - accuracy: 0.9605 - val_loss: 0.0852 - val_accuracy: 0.9646\n",
      "Epoch 15/25\n",
      "600/611 [============================>.] - ETA: 0s - loss: 0.1038 - accuracy: 0.9624INFO:tensorflow:Assets written to: ./checkpoints/ckpt_1_ANN\\Consumption_known_vars_ANN_2FC_F64_64_epoch_25\\assets\n",
      "611/611 [==============================] - 2s 3ms/step - loss: 0.1044 - accuracy: 0.9621 - val_loss: 0.0710 - val_accuracy: 0.9750\n",
      "Epoch 16/25\n",
      "611/611 [==============================] - 1s 2ms/step - loss: 0.1162 - accuracy: 0.9574 - val_loss: 0.0773 - val_accuracy: 0.9665\n",
      "Epoch 17/25\n",
      "611/611 [==============================] - 1s 2ms/step - loss: 0.1015 - accuracy: 0.9623 - val_loss: 0.0759 - val_accuracy: 0.9712\n",
      "Epoch 18/25\n",
      "611/611 [==============================] - 1s 2ms/step - loss: 0.0986 - accuracy: 0.9616 - val_loss: 0.0940 - val_accuracy: 0.9623\n",
      "Epoch 19/25\n",
      "611/611 [==============================] - 1s 2ms/step - loss: 0.0982 - accuracy: 0.9634 - val_loss: 0.0850 - val_accuracy: 0.9631\n",
      "Epoch 20/25\n",
      "611/611 [==============================] - 1s 2ms/step - loss: 0.0930 - accuracy: 0.9647 - val_loss: 0.0772 - val_accuracy: 0.9704\n",
      "Epoch 21/25\n",
      "591/611 [============================>.] - ETA: 0s - loss: 0.0928 - accuracy: 0.9623INFO:tensorflow:Assets written to: ./checkpoints/ckpt_1_ANN\\Consumption_known_vars_ANN_2FC_F64_64_epoch_25\\assets\n",
      "611/611 [==============================] - 2s 3ms/step - loss: 0.0925 - accuracy: 0.9622 - val_loss: 0.0674 - val_accuracy: 0.9700\n",
      "Epoch 22/25\n",
      "611/611 [==============================] - 1s 2ms/step - loss: 0.0880 - accuracy: 0.9660 - val_loss: 0.0768 - val_accuracy: 0.9715\n",
      "Epoch 23/25\n",
      "611/611 [==============================] - 1s 2ms/step - loss: 0.0903 - accuracy: 0.9659 - val_loss: 0.0757 - val_accuracy: 0.9712\n",
      "Epoch 24/25\n",
      "611/611 [==============================] - 1s 2ms/step - loss: 0.0871 - accuracy: 0.9653 - val_loss: 0.0993 - val_accuracy: 0.9600\n",
      "Epoch 25/25\n",
      "611/611 [==============================] - 2s 2ms/step - loss: 0.0919 - accuracy: 0.9629 - val_loss: 0.0708 - val_accuracy: 0.9727\n"
     ]
    }
   ],
   "source": [
    "history = model.fit(trainX,\n",
    "                    trainY,\n",
    "                    steps_per_epoch=n_steps_per_epoch,\n",
    "                    epochs=n_epochs,\n",
    "                    batch_size=n_batch_size,\n",
    "                    validation_data=(valX, valY),\n",
    "                    validation_steps=n_validation_steps,\n",
    "                    callbacks=[keras_callbacks])"
   ]
  },
  {
   "cell_type": "code",
   "execution_count": 149,
   "id": "4955665f",
   "metadata": {},
   "outputs": [
    {
     "data": {
      "text/html": [
       "<div>\n",
       "<style scoped>\n",
       "    .dataframe tbody tr th:only-of-type {\n",
       "        vertical-align: middle;\n",
       "    }\n",
       "\n",
       "    .dataframe tbody tr th {\n",
       "        vertical-align: top;\n",
       "    }\n",
       "\n",
       "    .dataframe thead th {\n",
       "        text-align: right;\n",
       "    }\n",
       "</style>\n",
       "<table border=\"1\" class=\"dataframe\">\n",
       "  <thead>\n",
       "    <tr style=\"text-align: right;\">\n",
       "      <th></th>\n",
       "      <th>epoch</th>\n",
       "      <th>loss</th>\n",
       "      <th>accuracy</th>\n",
       "      <th>val_loss</th>\n",
       "      <th>val_accuracy</th>\n",
       "    </tr>\n",
       "  </thead>\n",
       "  <tbody>\n",
       "    <tr>\n",
       "      <th>0</th>\n",
       "      <td>1</td>\n",
       "      <td>0.521315</td>\n",
       "      <td>0.895090</td>\n",
       "      <td>0.329791</td>\n",
       "      <td>0.906154</td>\n",
       "    </tr>\n",
       "    <tr>\n",
       "      <th>1</th>\n",
       "      <td>2</td>\n",
       "      <td>0.330282</td>\n",
       "      <td>0.906319</td>\n",
       "      <td>0.266017</td>\n",
       "      <td>0.909615</td>\n",
       "    </tr>\n",
       "    <tr>\n",
       "      <th>2</th>\n",
       "      <td>3</td>\n",
       "      <td>0.276257</td>\n",
       "      <td>0.916646</td>\n",
       "      <td>0.407421</td>\n",
       "      <td>0.906923</td>\n",
       "    </tr>\n",
       "    <tr>\n",
       "      <th>3</th>\n",
       "      <td>4</td>\n",
       "      <td>0.242620</td>\n",
       "      <td>0.925334</td>\n",
       "      <td>0.201194</td>\n",
       "      <td>0.928462</td>\n",
       "    </tr>\n",
       "    <tr>\n",
       "      <th>4</th>\n",
       "      <td>5</td>\n",
       "      <td>0.220566</td>\n",
       "      <td>0.929760</td>\n",
       "      <td>0.204885</td>\n",
       "      <td>0.939231</td>\n",
       "    </tr>\n",
       "  </tbody>\n",
       "</table>\n",
       "</div>"
      ],
      "text/plain": [
       "   epoch      loss  accuracy  val_loss  val_accuracy\n",
       "0      1  0.521315  0.895090  0.329791      0.906154\n",
       "1      2  0.330282  0.906319  0.266017      0.909615\n",
       "2      3  0.276257  0.916646  0.407421      0.906923\n",
       "3      4  0.242620  0.925334  0.201194      0.928462\n",
       "4      5  0.220566  0.929760  0.204885      0.939231"
      ]
     },
     "execution_count": 149,
     "metadata": {},
     "output_type": "execute_result"
    }
   ],
   "source": [
    "hist_df = pd.DataFrame(history.history)\n",
    "hist_df['epoch'] = hist_df.index + 1\n",
    "cols = list(hist_df.columns)\n",
    "cols = [cols[-1]] + cols[:-1]\n",
    "hist_df = hist_df[cols]\n",
    "hist_df.to_csv(\"./checkpoints/\" +checkpoint_no + '/' + 'history_df_' + model_name + '.csv')\n",
    "hist_df.head()"
   ]
  },
  {
   "cell_type": "code",
   "execution_count": 150,
   "id": "bf5c3c8e",
   "metadata": {},
   "outputs": [
    {
     "data": {
      "text/html": [
       "<div>\n",
       "<style scoped>\n",
       "    .dataframe tbody tr th:only-of-type {\n",
       "        vertical-align: middle;\n",
       "    }\n",
       "\n",
       "    .dataframe tbody tr th {\n",
       "        vertical-align: top;\n",
       "    }\n",
       "\n",
       "    .dataframe thead th {\n",
       "        text-align: right;\n",
       "    }\n",
       "</style>\n",
       "<table border=\"1\" class=\"dataframe\">\n",
       "  <thead>\n",
       "    <tr style=\"text-align: right;\">\n",
       "      <th></th>\n",
       "      <th>epoch</th>\n",
       "      <th>loss</th>\n",
       "      <th>accuracy</th>\n",
       "      <th>val_loss</th>\n",
       "      <th>val_accuracy</th>\n",
       "    </tr>\n",
       "  </thead>\n",
       "  <tbody>\n",
       "    <tr>\n",
       "      <th>20</th>\n",
       "      <td>21</td>\n",
       "      <td>0.092478</td>\n",
       "      <td>0.962216</td>\n",
       "      <td>0.06739</td>\n",
       "      <td>0.97</td>\n",
       "    </tr>\n",
       "  </tbody>\n",
       "</table>\n",
       "</div>"
      ],
      "text/plain": [
       "    epoch      loss  accuracy  val_loss  val_accuracy\n",
       "20     21  0.092478  0.962216   0.06739          0.97"
      ]
     },
     "execution_count": 150,
     "metadata": {},
     "output_type": "execute_result"
    }
   ],
   "source": [
    "values_of_best_model = hist_df[hist_df.val_loss == hist_df.val_loss.min()]\n",
    "values_of_best_model"
   ]
  },
  {
   "cell_type": "code",
   "execution_count": 151,
   "id": "9b91d5a9",
   "metadata": {},
   "outputs": [
    {
     "name": "stdout",
     "output_type": "stream",
     "text": [
      "Class assignment:\n"
     ]
    },
    {
     "data": {
      "text/plain": [
       "{0: array([1., 0., 0., 0.]),\n",
       " 3: array([0., 0., 0., 1.]),\n",
       " 1: array([0., 1., 0., 0.]),\n",
       " 2: array([0., 0., 1., 0.])}"
      ]
     },
     "execution_count": 151,
     "metadata": {},
     "output_type": "execute_result"
    }
   ],
   "source": [
    "class_assignment = dict(zip(y, encoded_Y))\n",
    "\n",
    "df_temp = pd.DataFrame([class_assignment], columns=class_assignment.keys())\n",
    "df_temp = df_temp.stack()\n",
    "df_temp = pd.DataFrame(df_temp).reset_index().drop(['level_0'], axis=1)\n",
    "df_temp.columns = ['Category', 'Allocated Number']\n",
    "\n",
    "df_temp.to_csv(\"./checkpoints/\"+checkpoint_no + '/' + 'class_assignment_df_' + model_name + '.csv')\n",
    "\n",
    "print('Class assignment:')\n",
    "class_assignment"
   ]
  },
  {
   "cell_type": "code",
   "execution_count": 152,
   "id": "14486b6d",
   "metadata": {},
   "outputs": [],
   "source": [
    "pk.dump(encoder, open(\"./checkpoints/\" + checkpoint_no + '/' + 'encoder.pkl', 'wb'))"
   ]
  },
  {
   "cell_type": "code",
   "execution_count": 153,
   "id": "10822e3e",
   "metadata": {},
   "outputs": [
    {
     "data": {
      "image/png": "[encoded data removed]",
      "text/plain": [
       "<Figure size 432x288 with 1 Axes>"
      ]
     },
     "metadata": {
      "needs_background": "light"
     },
     "output_type": "display_data"
    },
    {
     "data": {
      "image/png": "[encoded data removed]",
      "text/plain": [
       "<Figure size 432x288 with 1 Axes>"
      ]
     },
     "metadata": {
      "needs_background": "light"
     },
     "output_type": "display_data"
    }
   ],
   "source": [
    "acc = history.history['accuracy']\n",
    "val_acc = history.history['val_accuracy']\n",
    "loss = history.history['loss']\n",
    "val_loss = history.history['val_loss']\n",
    "\n",
    "epochs = range(1, len(acc) + 1)\n",
    "\n",
    "plt.plot(epochs, acc, 'bo', label='Training acc')\n",
    "plt.plot(epochs, val_acc, 'b', label='Validation acc')\n",
    "plt.title('Training and validation accuracy')\n",
    "plt.legend()\n",
    "\n",
    "plt.figure()\n",
    "\n",
    "plt.plot(epochs, loss, 'bo', label='Training loss')\n",
    "plt.plot(epochs, val_loss, 'b', label='Validation loss')\n",
    "plt.title('Training and validation loss')\n",
    "plt.legend()\n",
    "\n",
    "plt.show()"
   ]
  },
  {
   "cell_type": "code",
   "execution_count": 154,
   "id": "82d552ec",
   "metadata": {},
   "outputs": [],
   "source": [
    "# Loading the automatically saved model\n",
    "model_reloaded = load_model(\"./checkpoints/\"+checkpoint_no + '/' + model_name)\n",
    "\n",
    "# Saving the best model in the correct path and format\n",
    "root_directory = os.getcwd()\n",
    "checkpoint_dir = os.path.join(root_directory, checkpoint_no)\n",
    "model_name_temp = os.path.join(checkpoint_dir, model_name + '.h5')\n",
    "model_reloaded.save(model_name_temp)\n",
    "\n",
    "# Deletion of the automatically created folder under Model Checkpoint File.\n",
    "folder_name_temp = os.path.join(checkpoint_dir, model_name)\n",
    "shutil.rmtree(folder_name_temp, ignore_errors=True)"
   ]
  },
  {
   "cell_type": "code",
   "execution_count": 155,
   "id": "566fb80c",
   "metadata": {},
   "outputs": [],
   "source": [
    "best_model = load_model(model_name_temp)"
   ]
  },
  {
   "cell_type": "code",
   "execution_count": 156,
   "id": "838b8fe5",
   "metadata": {},
   "outputs": [
    {
     "name": "stdout",
     "output_type": "stream",
     "text": [
      "131/131 [==============================] - 0s 1ms/step - loss: 0.0724 - accuracy: 0.9740\n",
      "\n",
      "Test Accuracy: 0.9740458130836487\n"
     ]
    }
   ],
   "source": [
    "test_loss, test_acc = best_model.evaluate(testX,\n",
    "                                          testY,\n",
    "                                          steps=n_test_steps)\n",
    "print()\n",
    "print('Test Accuracy:', test_acc)"
   ]
  },
  {
   "cell_type": "code",
   "execution_count": 159,
   "id": "afc44c9c",
   "metadata": {},
   "outputs": [
    {
     "name": "stdout",
     "output_type": "stream",
     "text": [
      "82/82 [==============================] - 0s 1ms/step\n"
     ]
    },
    {
     "data": {
      "text/plain": [
       "array([[9.99997735e-01, 3.83758163e-08, 1.52353130e-09, 2.19330673e-06],\n",
       "       [9.99998569e-01, 1.02845468e-06, 1.39614009e-09, 3.81638188e-07],\n",
       "       [9.99997377e-01, 2.02097951e-07, 4.02287492e-09, 2.44273429e-06],\n",
       "       [9.99995947e-01, 1.77576823e-07, 3.54839449e-06, 3.33166810e-07],\n",
       "       [9.99997973e-01, 1.61695652e-06, 1.15247700e-09, 4.31471989e-07],\n",
       "       [9.99994755e-01, 3.88216949e-06, 2.79290457e-09, 1.32156867e-06],\n",
       "       [9.99849677e-01, 3.23568565e-05, 2.73748401e-06, 1.15151590e-04],\n",
       "       [9.99999285e-01, 2.09195207e-07, 1.03305331e-09, 5.42787063e-07],\n",
       "       [9.99999046e-01, 2.85547856e-07, 2.70226730e-09, 6.78106005e-07],\n",
       "       [9.98132765e-01, 1.19115971e-03, 5.14226012e-05, 6.24662847e-04],\n",
       "       [9.98463988e-01, 1.51609827e-03, 7.15117403e-06, 1.27839812e-05],\n",
       "       [9.99998927e-01, 3.49724417e-07, 1.46179546e-09, 6.65832204e-07],\n",
       "       [9.98611331e-01, 1.10425032e-03, 1.72196469e-05, 2.67136231e-04],\n",
       "       [9.99974132e-01, 4.07346647e-07, 2.53814851e-05, 5.33503801e-08],\n",
       "       [9.99993324e-01, 3.06131005e-06, 1.56374069e-09, 3.61919911e-06],\n",
       "       [9.52094197e-01, 4.78276387e-02, 6.34639800e-05, 1.47107639e-05],\n",
       "       [6.01908565e-01, 3.98060620e-01, 2.03329591e-06, 2.88818683e-05],\n",
       "       [9.94664907e-01, 1.30396069e-03, 3.66608542e-03, 3.65123531e-04],\n",
       "       [9.99998093e-01, 1.47264620e-06, 1.50091894e-09, 4.74413810e-07],\n",
       "       [9.99998569e-01, 1.86014315e-08, 1.53302648e-09, 1.43270211e-06],\n",
       "       [9.99784529e-01, 6.28995767e-05, 4.55576992e-06, 1.48011008e-04],\n",
       "       [3.36546302e-01, 2.18904810e-03, 6.61201775e-01, 6.28876442e-05],\n",
       "       [9.99998331e-01, 2.38619492e-07, 1.98515893e-09, 1.47836806e-06],\n",
       "       [9.99997377e-01, 2.18049854e-06, 3.11076609e-09, 4.73971198e-07],\n",
       "       [8.39567900e-01, 4.66485769e-02, 4.27025510e-03, 1.09513246e-01],\n",
       "       [9.99998450e-01, 1.69943934e-08, 1.97596073e-09, 1.53464077e-06],\n",
       "       [9.99997139e-01, 2.35592711e-06, 2.45364262e-09, 5.12179099e-07],\n",
       "       [9.99999046e-01, 5.37039682e-07, 1.07855358e-09, 4.39332581e-07],\n",
       "       [8.79766226e-01, 1.19952329e-01, 8.23924274e-05, 1.98967522e-04],\n",
       "       [9.96156514e-01, 3.79881659e-03, 7.21532024e-06, 3.74206902e-05],\n",
       "       [9.99291897e-01, 6.76303345e-04, 1.11928975e-05, 2.06363075e-05],\n",
       "       [9.99997973e-01, 7.20049158e-08, 1.01368229e-08, 1.96093538e-06],\n",
       "       [9.99747813e-01, 4.30908949e-05, 7.38615563e-06, 2.01749004e-04],\n",
       "       [9.99452889e-01, 2.10464612e-04, 1.40455058e-05, 3.22631007e-04],\n",
       "       [9.99993682e-01, 6.05430751e-06, 4.40894521e-09, 2.30404197e-07],\n",
       "       [9.99849677e-01, 1.14108438e-08, 1.50227090e-04, 8.01261137e-08],\n",
       "       [9.99998689e-01, 1.87338941e-07, 2.71859246e-09, 1.16909564e-06],\n",
       "       [1.53669551e-01, 1.13635086e-01, 7.32072055e-01, 6.23313070e-04],\n",
       "       [9.87981379e-01, 1.16289761e-02, 2.75923703e-05, 3.62116465e-04],\n",
       "       [9.99999404e-01, 3.87748628e-07, 6.10736850e-10, 1.88263954e-07],\n",
       "       [9.99997258e-01, 2.90940534e-07, 3.75078324e-09, 2.44720127e-06],\n",
       "       [9.99998450e-01, 8.09448750e-07, 2.62976330e-09, 7.17985927e-07],\n",
       "       [2.09966719e-01, 3.40534793e-03, 7.31820166e-01, 5.48077635e-02],\n",
       "       [9.99557316e-01, 1.88664402e-04, 1.59747760e-05, 2.38070104e-04],\n",
       "       [9.99999404e-01, 3.27935112e-07, 8.18744628e-10, 2.76013992e-07],\n",
       "       [9.99934793e-01, 1.16329620e-05, 5.18110101e-05, 1.67269047e-06],\n",
       "       [9.93436456e-01, 6.55429857e-03, 6.26366955e-06, 2.99628118e-06],\n",
       "       [9.99999285e-01, 1.95627649e-07, 3.66789599e-09, 5.71146245e-07],\n",
       "       [9.98295605e-01, 1.33296044e-03, 2.49940222e-05, 3.46440705e-04],\n",
       "       [9.98628139e-01, 7.47578102e-04, 4.91149985e-05, 5.75150480e-04],\n",
       "       [9.99997377e-01, 1.87695741e-06, 2.41728526e-09, 7.61130025e-07],\n",
       "       [9.99994993e-01, 3.25711710e-07, 4.22954649e-09, 4.68849294e-06],\n",
       "       [9.99997973e-01, 3.51500233e-07, 5.11259612e-09, 1.70512533e-06],\n",
       "       [9.99994278e-01, 6.31349408e-08, 7.95807864e-09, 5.63323192e-06],\n",
       "       [9.95417714e-01, 4.48886259e-03, 2.42647529e-05, 6.92778194e-05],\n",
       "       [9.92793679e-01, 7.19304895e-03, 9.40212158e-06, 3.91514004e-06],\n",
       "       [9.96032417e-01, 3.91498767e-03, 8.28615521e-06, 4.42754899e-05],\n",
       "       [9.99867797e-01, 7.96694621e-08, 4.33645766e-07, 1.31636101e-04],\n",
       "       [9.99997854e-01, 2.85758347e-07, 5.12669596e-09, 1.91796516e-06],\n",
       "       [9.99992967e-01, 1.42266032e-07, 9.93524996e-09, 6.86989142e-06],\n",
       "       [9.97779429e-01, 2.12887302e-03, 1.50002043e-05, 7.67149977e-05],\n",
       "       [9.99999166e-01, 2.86928611e-07, 2.42184917e-09, 6.05643947e-07],\n",
       "       [9.99721467e-01, 8.80210573e-05, 9.07591584e-06, 1.81494965e-04],\n",
       "       [9.98458982e-01, 1.15722232e-03, 1.05693971e-06, 3.82683444e-04],\n",
       "       [9.96053100e-01, 3.93221620e-03, 8.10716847e-06, 6.54767700e-06],\n",
       "       [9.98612523e-01, 7.23110645e-07, 2.58139607e-05, 1.36085949e-03],\n",
       "       [2.33912006e-01, 2.95368284e-01, 5.74786142e-02, 4.13241088e-01],\n",
       "       [9.99589980e-01, 3.59589234e-04, 9.44393378e-06, 4.09943823e-05],\n",
       "       [9.99547780e-01, 2.45661940e-04, 2.04813773e-06, 2.04521581e-04],\n",
       "       [9.98960376e-01, 9.65913408e-04, 1.46633265e-05, 5.90058080e-05],\n",
       "       [9.99738038e-01, 1.58283365e-05, 3.76984790e-05, 2.08484722e-04],\n",
       "       [9.99996185e-01, 3.76183220e-06, 5.48229595e-09, 6.45342126e-08],\n",
       "       [9.99997139e-01, 4.89962098e-08, 2.68091253e-06, 2.17562359e-07],\n",
       "       [9.99998093e-01, 1.37854016e-07, 3.03795988e-09, 1.78559003e-06],\n",
       "       [9.89570856e-01, 9.46117286e-03, 8.73151992e-04, 9.47560256e-05],\n",
       "       [9.86942410e-01, 4.15745762e-06, 3.08601833e-09, 1.30533762e-02],\n",
       "       [9.99943733e-01, 5.53635582e-05, 5.04994730e-08, 8.69634675e-07],\n",
       "       [9.83099580e-01, 1.68709233e-02, 1.38898431e-05, 1.55788075e-05],\n",
       "       [8.85951817e-01, 1.13307826e-01, 4.06339939e-04, 3.34137934e-04],\n",
       "       [9.99059021e-01, 2.24180694e-04, 3.09839234e-05, 6.85829727e-04],\n",
       "       [9.90341544e-01, 9.28976166e-04, 8.70413706e-03, 2.53396029e-05],\n",
       "       [7.43954515e-05, 9.99682665e-01, 2.04234384e-04, 3.87169966e-05],\n",
       "       [8.33283085e-03, 1.35104416e-03, 4.69282128e-07, 9.90315735e-01],\n",
       "       [9.99178350e-01, 3.91622947e-08, 3.80155281e-04, 4.41405427e-04],\n",
       "       [9.99999285e-01, 3.12268554e-07, 2.08752970e-09, 3.94614574e-07],\n",
       "       [9.97645199e-01, 3.26484404e-08, 1.70150562e-03, 6.53227034e-04],\n",
       "       [3.25028121e-01, 2.98329117e-03, 6.71674073e-01, 3.14533303e-04],\n",
       "       [9.99994755e-01, 4.10738221e-06, 1.98196992e-09, 1.11688917e-06],\n",
       "       [9.99757230e-01, 5.75157828e-05, 9.06031073e-06, 1.76140515e-04],\n",
       "       [9.86561120e-01, 1.34374108e-02, 9.69654912e-10, 1.43136685e-06],\n",
       "       [9.99940634e-01, 4.53842222e-06, 4.68297003e-06, 5.02092043e-05],\n",
       "       [9.99171376e-01, 7.08819658e-04, 1.27100893e-05, 1.07044849e-04],\n",
       "       [9.99988079e-01, 2.65710440e-08, 1.18264570e-05, 5.86838880e-08],\n",
       "       [9.97511506e-01, 2.46878201e-03, 4.58606291e-06, 1.51134336e-05],\n",
       "       [9.93973672e-01, 1.06081192e-03, 1.75697845e-04, 4.78977198e-03],\n",
       "       [9.85230505e-01, 1.47312833e-02, 1.92833522e-05, 1.89155398e-05],\n",
       "       [5.72922636e-06, 9.99994278e-01, 1.78119382e-15, 8.11800141e-11],\n",
       "       [8.23861599e-01, 1.34196624e-01, 4.19266857e-02, 1.50981086e-05],\n",
       "       [5.71151674e-02, 6.81677610e-02, 7.38022864e-01, 1.36694148e-01],\n",
       "       [9.99960899e-01, 3.81544487e-05, 5.52148833e-08, 8.93013407e-07]],\n",
       "      dtype=float32)"
      ]
     },
     "execution_count": 159,
     "metadata": {},
     "output_type": "execute_result"
    }
   ],
   "source": [
    "numpy.set_printoptions(threshold=sys.maxsize)\n",
    "y_pred = model.predict(testX)\n",
    "y_pred[:100]"
   ]
  },
  {
   "cell_type": "code",
   "execution_count": 161,
   "id": "f421f295",
   "metadata": {},
   "outputs": [
    {
     "data": {
      "text/html": [
       "<div>\n",
       "<style scoped>\n",
       "    .dataframe tbody tr th:only-of-type {\n",
       "        vertical-align: middle;\n",
       "    }\n",
       "\n",
       "    .dataframe tbody tr th {\n",
       "        vertical-align: top;\n",
       "    }\n",
       "\n",
       "    .dataframe thead th {\n",
       "        text-align: right;\n",
       "    }\n",
       "</style>\n",
       "<table border=\"1\" class=\"dataframe\">\n",
       "  <thead>\n",
       "    <tr style=\"text-align: right;\">\n",
       "      <th></th>\n",
       "      <th>AC(kW)</th>\n",
       "      <th>Lighting(kW)</th>\n",
       "      <th>Plug(kW)</th>\n",
       "      <th>Temperature(C)</th>\n",
       "      <th>Relative Humidity(%)</th>\n",
       "      <th>Ambient Light(lux)</th>\n",
       "      <th>isWeekend</th>\n",
       "      <th>Season</th>\n",
       "    </tr>\n",
       "  </thead>\n",
       "  <tbody>\n",
       "    <tr>\n",
       "      <th>11713</th>\n",
       "      <td>0.00</td>\n",
       "      <td>0.48</td>\n",
       "      <td>0.22</td>\n",
       "      <td>19.80</td>\n",
       "      <td>75.88</td>\n",
       "      <td>0</td>\n",
       "      <td>1</td>\n",
       "      <td>1</td>\n",
       "    </tr>\n",
       "    <tr>\n",
       "      <th>17335</th>\n",
       "      <td>0.00</td>\n",
       "      <td>0.00</td>\n",
       "      <td>0.05</td>\n",
       "      <td>25.13</td>\n",
       "      <td>60.31</td>\n",
       "      <td>0</td>\n",
       "      <td>1</td>\n",
       "      <td>2</td>\n",
       "    </tr>\n",
       "    <tr>\n",
       "      <th>4085</th>\n",
       "      <td>0.62</td>\n",
       "      <td>0.00</td>\n",
       "      <td>0.10</td>\n",
       "      <td>17.93</td>\n",
       "      <td>74.28</td>\n",
       "      <td>3</td>\n",
       "      <td>0</td>\n",
       "      <td>0</td>\n",
       "    </tr>\n",
       "    <tr>\n",
       "      <th>15048</th>\n",
       "      <td>0.01</td>\n",
       "      <td>0.81</td>\n",
       "      <td>0.05</td>\n",
       "      <td>25.83</td>\n",
       "      <td>56.45</td>\n",
       "      <td>1</td>\n",
       "      <td>1</td>\n",
       "      <td>2</td>\n",
       "    </tr>\n",
       "    <tr>\n",
       "      <th>16789</th>\n",
       "      <td>0.16</td>\n",
       "      <td>3.30</td>\n",
       "      <td>0.70</td>\n",
       "      <td>18.10</td>\n",
       "      <td>65.37</td>\n",
       "      <td>54</td>\n",
       "      <td>0</td>\n",
       "      <td>2</td>\n",
       "    </tr>\n",
       "    <tr>\n",
       "      <th>16286</th>\n",
       "      <td>0.01</td>\n",
       "      <td>0.00</td>\n",
       "      <td>0.05</td>\n",
       "      <td>22.89</td>\n",
       "      <td>43.98</td>\n",
       "      <td>2</td>\n",
       "      <td>0</td>\n",
       "      <td>2</td>\n",
       "    </tr>\n",
       "  </tbody>\n",
       "</table>\n",
       "</div>"
      ],
      "text/plain": [
       "       AC(kW)  Lighting(kW)  Plug(kW)  Temperature(C)  Relative Humidity(%)  \\\n",
       "11713    0.00          0.48      0.22           19.80                 75.88   \n",
       "17335    0.00          0.00      0.05           25.13                 60.31   \n",
       "4085     0.62          0.00      0.10           17.93                 74.28   \n",
       "15048    0.01          0.81      0.05           25.83                 56.45   \n",
       "16789    0.16          3.30      0.70           18.10                 65.37   \n",
       "16286    0.01          0.00      0.05           22.89                 43.98   \n",
       "\n",
       "       Ambient Light(lux)  isWeekend  Season  \n",
       "11713                   0          1       1  \n",
       "17335                   0          1       2  \n",
       "4085                    3          0       0  \n",
       "15048                   1          1       2  \n",
       "16789                  54          0       2  \n",
       "16286                   2          0       2  "
      ]
     },
     "execution_count": 161,
     "metadata": {},
     "output_type": "execute_result"
    }
   ],
   "source": [
    "testX[94:100]"
   ]
  },
  {
   "cell_type": "markdown",
   "id": "7e77f957",
   "metadata": {},
   "source": [
    "# 3 Layers"
   ]
  },
  {
   "cell_type": "code",
   "execution_count": 9,
   "id": "6ccd865a",
   "metadata": {},
   "outputs": [
    {
     "name": "stdout",
     "output_type": "stream",
     "text": [
      "Epoch 1/25\n",
      "611/611 [==============================] - ETA: 0s - loss: 0.3829 - accuracy: 0.9055INFO:tensorflow:Assets written to: ./checkpoints/ckpt_1_ANN\\Consumption_ANN_2FC_F64_64_epoch_25_3layers\\assets\n",
      "611/611 [==============================] - 4s 5ms/step - loss: 0.3829 - accuracy: 0.9055 - val_loss: 0.3274 - val_accuracy: 0.9050\n",
      "Epoch 2/25\n",
      "600/611 [============================>.] - ETA: 0s - loss: 0.3156 - accuracy: 0.9093INFO:tensorflow:Assets written to: ./checkpoints/ckpt_1_ANN\\Consumption_ANN_2FC_F64_64_epoch_25_3layers\\assets\n",
      "611/611 [==============================] - 4s 6ms/step - loss: 0.3138 - accuracy: 0.9096 - val_loss: 0.2607 - val_accuracy: 0.9162\n",
      "Epoch 3/25\n",
      "610/611 [============================>.] - ETA: 0s - loss: 0.2615 - accuracy: 0.9183INFO:tensorflow:Assets written to: ./checkpoints/ckpt_1_ANN\\Consumption_ANN_2FC_F64_64_epoch_25_3layers\\assets\n",
      "611/611 [==============================] - 3s 5ms/step - loss: 0.2617 - accuracy: 0.9183 - val_loss: 0.2466 - val_accuracy: 0.9192\n",
      "Epoch 4/25\n",
      "596/611 [============================>.] - ETA: 0s - loss: 0.2248 - accuracy: 0.9276INFO:tensorflow:Assets written to: ./checkpoints/ckpt_1_ANN\\Consumption_ANN_2FC_F64_64_epoch_25_3layers\\assets\n",
      "611/611 [==============================] - 3s 5ms/step - loss: 0.2260 - accuracy: 0.9271 - val_loss: 0.2018 - val_accuracy: 0.9358\n",
      "Epoch 5/25\n",
      "593/611 [============================>.] - ETA: 0s - loss: 0.2054 - accuracy: 0.9317INFO:tensorflow:Assets written to: ./checkpoints/ckpt_1_ANN\\Consumption_ANN_2FC_F64_64_epoch_25_3layers\\assets\n",
      "611/611 [==============================] - 3s 4ms/step - loss: 0.2050 - accuracy: 0.9319 - val_loss: 0.1950 - val_accuracy: 0.9312\n",
      "Epoch 6/25\n",
      "589/611 [===========================>..] - ETA: 0s - loss: 0.1861 - accuracy: 0.9388INFO:tensorflow:Assets written to: ./checkpoints/ckpt_1_ANN\\Consumption_ANN_2FC_F64_64_epoch_25_3layers\\assets\n",
      "611/611 [==============================] - 3s 4ms/step - loss: 0.1858 - accuracy: 0.9386 - val_loss: 0.1511 - val_accuracy: 0.9492\n",
      "Epoch 7/25\n",
      "611/611 [==============================] - 2s 3ms/step - loss: 0.1637 - accuracy: 0.9423 - val_loss: 0.1712 - val_accuracy: 0.9431\n",
      "Epoch 8/25\n",
      "603/611 [============================>.] - ETA: 0s - loss: 0.1452 - accuracy: 0.9473INFO:tensorflow:Assets written to: ./checkpoints/ckpt_1_ANN\\Consumption_ANN_2FC_F64_64_epoch_25_3layers\\assets\n",
      "611/611 [==============================] - 3s 5ms/step - loss: 0.1458 - accuracy: 0.9472 - val_loss: 0.1188 - val_accuracy: 0.9577\n",
      "Epoch 9/25\n",
      "611/611 [==============================] - 2s 3ms/step - loss: 0.1377 - accuracy: 0.9501 - val_loss: 0.1447 - val_accuracy: 0.9415\n",
      "Epoch 10/25\n",
      "611/611 [==============================] - 2s 3ms/step - loss: 0.1263 - accuracy: 0.9534 - val_loss: 0.1259 - val_accuracy: 0.9592\n",
      "Epoch 11/25\n",
      "611/611 [==============================] - 2s 3ms/step - loss: 0.1223 - accuracy: 0.9555 - val_loss: 0.2005 - val_accuracy: 0.9208\n",
      "Epoch 12/25\n",
      "611/611 [==============================] - 2s 3ms/step - loss: 0.1071 - accuracy: 0.9601 - val_loss: 0.1358 - val_accuracy: 0.9508\n",
      "Epoch 13/25\n",
      "601/611 [============================>.] - ETA: 0s - loss: 0.1054 - accuracy: 0.9592INFO:tensorflow:Assets written to: ./checkpoints/ckpt_1_ANN\\Consumption_ANN_2FC_F64_64_epoch_25_3layers\\assets\n",
      "611/611 [==============================] - 3s 5ms/step - loss: 0.1050 - accuracy: 0.9593 - val_loss: 0.1009 - val_accuracy: 0.9573\n",
      "Epoch 14/25\n",
      "611/611 [==============================] - 2s 3ms/step - loss: 0.1007 - accuracy: 0.9608 - val_loss: 0.1177 - val_accuracy: 0.9504\n",
      "Epoch 15/25\n",
      "611/611 [==============================] - 2s 3ms/step - loss: 0.1007 - accuracy: 0.9609 - val_loss: 0.1056 - val_accuracy: 0.9558\n",
      "Epoch 16/25\n",
      "607/611 [============================>.] - ETA: 0s - loss: 0.1220 - accuracy: 0.9525INFO:tensorflow:Assets written to: ./checkpoints/ckpt_1_ANN\\Consumption_ANN_2FC_F64_64_epoch_25_3layers\\assets\n",
      "611/611 [==============================] - 3s 6ms/step - loss: 0.1217 - accuracy: 0.9525 - val_loss: 0.0916 - val_accuracy: 0.9696\n",
      "Epoch 17/25\n",
      "611/611 [==============================] - 2s 3ms/step - loss: 0.0968 - accuracy: 0.9630 - val_loss: 0.1328 - val_accuracy: 0.9500\n",
      "Epoch 18/25\n",
      "609/611 [============================>.] - ETA: 0s - loss: 0.0873 - accuracy: 0.9672INFO:tensorflow:Assets written to: ./checkpoints/ckpt_1_ANN\\Consumption_ANN_2FC_F64_64_epoch_25_3layers\\assets\n",
      "611/611 [==============================] - 3s 5ms/step - loss: 0.0877 - accuracy: 0.9671 - val_loss: 0.0721 - val_accuracy: 0.9754\n",
      "Epoch 19/25\n",
      "611/611 [==============================] - 2s 3ms/step - loss: 0.0873 - accuracy: 0.9644 - val_loss: 0.1683 - val_accuracy: 0.9412\n",
      "Epoch 20/25\n",
      "611/611 [==============================] - 2s 3ms/step - loss: 0.0887 - accuracy: 0.9659 - val_loss: 0.0928 - val_accuracy: 0.9658\n",
      "Epoch 21/25\n",
      "611/611 [==============================] - 2s 3ms/step - loss: 0.0875 - accuracy: 0.9659 - val_loss: 0.0735 - val_accuracy: 0.9723\n",
      "Epoch 22/25\n",
      "611/611 [==============================] - 2s 3ms/step - loss: 0.0823 - accuracy: 0.9661 - val_loss: 0.1129 - val_accuracy: 0.9569\n",
      "Epoch 23/25\n",
      "611/611 [==============================] - 2s 3ms/step - loss: 0.0797 - accuracy: 0.9683 - val_loss: 0.0908 - val_accuracy: 0.9600\n",
      "Epoch 24/25\n",
      "611/611 [==============================] - 2s 4ms/step - loss: 0.0819 - accuracy: 0.9661 - val_loss: 0.1088 - val_accuracy: 0.9562\n",
      "Epoch 25/25\n",
      "611/611 [==============================] - 3s 4ms/step - loss: 0.0847 - accuracy: 0.9657 - val_loss: 0.0740 - val_accuracy: 0.9704\n"
     ]
    },
    {
     "data": {
      "image/png": "[encoded data removed]",
      "text/plain": [
       "<Figure size 432x288 with 1 Axes>"
      ]
     },
     "metadata": {
      "needs_background": "light"
     },
     "output_type": "display_data"
    },
    {
     "data": {
      "image/png": "[encoded data removed]",
      "text/plain": [
       "<Figure size 432x288 with 1 Axes>"
      ]
     },
     "metadata": {
      "needs_background": "light"
     },
     "output_type": "display_data"
    },
    {
     "name": "stdout",
     "output_type": "stream",
     "text": [
      "131/131 [==============================] - 0s 2ms/step - loss: 0.0650 - accuracy: 0.9718\n",
      "\n",
      "Test Accuracy: 0.9717557430267334\n"
     ]
    }
   ],
   "source": [
    "import pandas as pd\n",
    "import numpy as np\n",
    "import os\n",
    "import shutil\n",
    "import pickle as pk\n",
    "import matplotlib.pyplot as plt\n",
    "\n",
    "from sklearn.preprocessing import OneHotEncoder\n",
    "from sklearn.model_selection import train_test_split\n",
    "\n",
    "from keras import models\n",
    "from keras import layers\n",
    "from keras.callbacks import EarlyStopping, ModelCheckpoint\n",
    "from keras.models import load_model\n",
    "\n",
    "df = pd.read_csv('consumption_known_vars.csv')\n",
    "df.drop(\"Unnamed: 0\", axis=1, inplace=True)\n",
    "\n",
    "x = df.drop('AnomalyType', axis=1)\n",
    "y = df['AnomalyType']\n",
    "\n",
    "encoder = OneHotEncoder()\n",
    "\n",
    "encoded_Y = encoder.fit(y.values.reshape(-1,1))\n",
    "encoded_Y = encoded_Y.transform(y.values.reshape(-1,1)).toarray()\n",
    "\n",
    "train_ratio = 0.70\n",
    "validation_ratio = 0.15\n",
    "test_ratio = 0.15\n",
    "\n",
    "# Generate TrainX and TrainY\n",
    "trainX, testX, trainY, testY = train_test_split(x, encoded_Y, test_size= 1 - train_ratio)\n",
    "# Genearate ValX, TestX, ValY and TestY\n",
    "valX, testX, valY, testY = train_test_split(testX, testY, test_size=test_ratio/(test_ratio + validation_ratio))\n",
    "\n",
    "checkpoint_no = 'ckpt_1_ANN'\n",
    "model_name = 'Consumption_ANN_2FC_F64_64_epoch_25_3layers'\n",
    "\n",
    "input_shape = trainX.shape[1]\n",
    "\n",
    "n_batch_size = 20\n",
    "\n",
    "n_steps_per_epoch = int(trainX.shape[0] / n_batch_size)\n",
    "n_validation_steps = int(valX.shape[0] / n_batch_size)\n",
    "n_test_steps = int(testX.shape[0] / n_batch_size)\n",
    "\n",
    "n_epochs = 25\n",
    "\n",
    "num_classes = trainY.shape[1]\n",
    "\n",
    "model = models.Sequential()\n",
    "model.add(layers.Dense(64, activation='relu', input_shape=(input_shape,)))\n",
    "model.add(layers.Dense(64, activation='relu'))\n",
    "model.add(layers.Dense(64, activation='relu'))\n",
    "model.add(layers.Dense(num_classes, activation='softmax'))\n",
    "\n",
    "model.compile(loss='categorical_crossentropy',\n",
    "              optimizer='adam',\n",
    "              metrics=['accuracy'])\n",
    "\n",
    "checkpoint_dir = './checkpoints/'+ checkpoint_no\n",
    "if not os.path.exists(checkpoint_dir):\n",
    "    os.makedirs(checkpoint_dir)\n",
    "    \n",
    "keras_callbacks = [ModelCheckpoint(filepath = checkpoint_dir + '/' + model_name, \n",
    "                                   monitor='val_loss', save_best_only=True, mode='auto')]\n",
    "\n",
    "history = model.fit(trainX,\n",
    "                    trainY,\n",
    "                    steps_per_epoch=n_steps_per_epoch,\n",
    "                    epochs=n_epochs,\n",
    "                    batch_size=n_batch_size,\n",
    "                    validation_data=(valX, valY),\n",
    "                    validation_steps=n_validation_steps,\n",
    "                    callbacks=[keras_callbacks])\n",
    "\n",
    "hist_df = pd.DataFrame(history.history)\n",
    "hist_df['epoch'] = hist_df.index + 1\n",
    "cols = list(hist_df.columns)\n",
    "cols = [cols[-1]] + cols[:-1]\n",
    "hist_df = hist_df[cols]\n",
    "hist_df.to_csv(\"./checkpoints/\" +checkpoint_no + '/' + 'history_df_' + model_name + '.csv')\n",
    "\n",
    "values_of_best_model = hist_df[hist_df.val_loss == hist_df.val_loss.min()]\n",
    "\n",
    "class_assignment = dict(zip(y, encoded_Y))\n",
    "\n",
    "df_temp = pd.DataFrame([class_assignment], columns=class_assignment.keys())\n",
    "df_temp = df_temp.stack()\n",
    "df_temp = pd.DataFrame(df_temp).reset_index().drop(['level_0'], axis=1)\n",
    "df_temp.columns = ['Category', 'Allocated Number']\n",
    "\n",
    "df_temp.to_csv(\"./checkpoints/\"+checkpoint_no + '/' + 'class_assignment_df_' + model_name + '.csv')\n",
    "\n",
    "pk.dump(encoder, open(\"./checkpoints/\" + checkpoint_no + '/' + 'encoder.pkl', 'wb'))\n",
    "\n",
    "acc = history.history['accuracy']\n",
    "val_acc = history.history['val_accuracy']\n",
    "loss = history.history['loss']\n",
    "val_loss = history.history['val_loss']\n",
    "\n",
    "epochs = range(1, len(acc) + 1)\n",
    "\n",
    "plt.plot(epochs, acc, 'bo', label='Training acc')\n",
    "plt.plot(epochs, val_acc, 'b', label='Validation acc')\n",
    "plt.title('Training and validation accuracy')\n",
    "plt.legend()\n",
    "\n",
    "plt.figure()\n",
    "\n",
    "plt.plot(epochs, loss, 'bo', label='Training loss')\n",
    "plt.plot(epochs, val_loss, 'b', label='Validation loss')\n",
    "plt.title('Training and validation loss')\n",
    "plt.legend()\n",
    "\n",
    "plt.show()\n",
    "\n",
    "# Loading the automatically saved model\n",
    "model_reloaded = load_model(\"./checkpoints/\"+checkpoint_no + '/' + model_name)\n",
    "\n",
    "# Saving the best model in the correct path and format\n",
    "root_directory = os.getcwd()\n",
    "checkpoint_dir = os.path.join(root_directory, checkpoint_no)\n",
    "model_name_temp = os.path.join(checkpoint_dir, model_name + '.h5')\n",
    "model_reloaded.save(model_name_temp)\n",
    "\n",
    "# Deletion of the automatically created folder under Model Checkpoint File.\n",
    "folder_name_temp = os.path.join(checkpoint_dir, model_name)\n",
    "shutil.rmtree(folder_name_temp, ignore_errors=True)\n",
    "\n",
    "best_model = load_model(model_name_temp)\n",
    "\n",
    "test_loss, test_acc = best_model.evaluate(testX,\n",
    "                                          testY,\n",
    "                                          steps=n_test_steps)\n",
    "print()\n",
    "print('Test Accuracy:', test_acc)"
   ]
  },
  {
   "cell_type": "code",
   "execution_count": 8,
   "id": "84207a3b",
   "metadata": {},
   "outputs": [
    {
     "data": {
      "text/html": [
       "<div>\n",
       "<style scoped>\n",
       "    .dataframe tbody tr th:only-of-type {\n",
       "        vertical-align: middle;\n",
       "    }\n",
       "\n",
       "    .dataframe tbody tr th {\n",
       "        vertical-align: top;\n",
       "    }\n",
       "\n",
       "    .dataframe thead th {\n",
       "        text-align: right;\n",
       "    }\n",
       "</style>\n",
       "<table border=\"1\" class=\"dataframe\">\n",
       "  <thead>\n",
       "    <tr style=\"text-align: right;\">\n",
       "      <th></th>\n",
       "      <th>epoch</th>\n",
       "      <th>loss</th>\n",
       "      <th>accuracy</th>\n",
       "      <th>val_loss</th>\n",
       "      <th>val_accuracy</th>\n",
       "    </tr>\n",
       "  </thead>\n",
       "  <tbody>\n",
       "    <tr>\n",
       "      <th>24</th>\n",
       "      <td>25</td>\n",
       "      <td>0.109051</td>\n",
       "      <td>0.960823</td>\n",
       "      <td>0.118674</td>\n",
       "      <td>0.96</td>\n",
       "    </tr>\n",
       "  </tbody>\n",
       "</table>\n",
       "</div>"
      ],
      "text/plain": [
       "    epoch      loss  accuracy  val_loss  val_accuracy\n",
       "24     25  0.109051  0.960823  0.118674          0.96"
      ]
     },
     "execution_count": 8,
     "metadata": {},
     "output_type": "execute_result"
    }
   ],
   "source": [
    "values_of_best_model"
   ]
  },
  {
   "cell_type": "markdown",
   "id": "32f023b6",
   "metadata": {},
   "source": [
    "# 3 Layers, less nodes"
   ]
  },
  {
   "cell_type": "code",
   "execution_count": 11,
   "id": "92a0b0fb",
   "metadata": {},
   "outputs": [
    {
     "name": "stdout",
     "output_type": "stream",
     "text": [
      "Epoch 1/25\n",
      "595/611 [============================>.] - ETA: 0s - loss: 0.4823 - accuracy: 0.8940INFO:tensorflow:Assets written to: ./checkpoints/ckpt_1_ANN\\Consumption_ANN_2FC_F64_64_epoch_25_3layers\\assets\n",
      "611/611 [==============================] - 4s 5ms/step - loss: 0.4794 - accuracy: 0.8943 - val_loss: 0.3696 - val_accuracy: 0.8981\n",
      "Epoch 2/25\n",
      "608/611 [============================>.] - ETA: 0s - loss: 0.3330 - accuracy: 0.9076INFO:tensorflow:Assets written to: ./checkpoints/ckpt_1_ANN\\Consumption_ANN_2FC_F64_64_epoch_25_3layers\\assets\n",
      "611/611 [==============================] - 4s 6ms/step - loss: 0.3325 - accuracy: 0.9078 - val_loss: 0.3369 - val_accuracy: 0.9062\n",
      "Epoch 3/25\n",
      "605/611 [============================>.] - ETA: 0s - loss: 0.2667 - accuracy: 0.9185INFO:tensorflow:Assets written to: ./checkpoints/ckpt_1_ANN\\Consumption_ANN_2FC_F64_64_epoch_25_3layers\\assets\n",
      "611/611 [==============================] - 3s 5ms/step - loss: 0.2675 - accuracy: 0.9183 - val_loss: 0.2323 - val_accuracy: 0.9265\n",
      "Epoch 4/25\n",
      "611/611 [==============================] - 2s 4ms/step - loss: 0.2271 - accuracy: 0.9272 - val_loss: 0.2571 - val_accuracy: 0.9173\n",
      "Epoch 5/25\n",
      "607/611 [============================>.] - ETA: 0s - loss: 0.2011 - accuracy: 0.9319INFO:tensorflow:Assets written to: ./checkpoints/ckpt_1_ANN\\Consumption_ANN_2FC_F64_64_epoch_25_3layers\\assets\n",
      "611/611 [==============================] - 4s 7ms/step - loss: 0.2008 - accuracy: 0.9319 - val_loss: 0.2030 - val_accuracy: 0.9354\n",
      "Epoch 6/25\n",
      "602/611 [============================>.] - ETA: 0s - loss: 0.1807 - accuracy: 0.9391INFO:tensorflow:Assets written to: ./checkpoints/ckpt_1_ANN\\Consumption_ANN_2FC_F64_64_epoch_25_3layers\\assets\n",
      "611/611 [==============================] - 4s 6ms/step - loss: 0.1800 - accuracy: 0.9393 - val_loss: 0.1586 - val_accuracy: 0.9373\n",
      "Epoch 7/25\n",
      "609/611 [============================>.] - ETA: 0s - loss: 0.1597 - accuracy: 0.9426INFO:tensorflow:Assets written to: ./checkpoints/ckpt_1_ANN\\Consumption_ANN_2FC_F64_64_epoch_25_3layers\\assets\n",
      "611/611 [==============================] - 4s 6ms/step - loss: 0.1596 - accuracy: 0.9426 - val_loss: 0.1548 - val_accuracy: 0.9412\n",
      "Epoch 8/25\n",
      "608/611 [============================>.] - ETA: 0s - loss: 0.1472 - accuracy: 0.9468INFO:tensorflow:Assets written to: ./checkpoints/ckpt_1_ANN\\Consumption_ANN_2FC_F64_64_epoch_25_3layers\\assets\n",
      "611/611 [==============================] - 3s 5ms/step - loss: 0.1469 - accuracy: 0.9468 - val_loss: 0.1515 - val_accuracy: 0.9381\n",
      "Epoch 9/25\n",
      "610/611 [============================>.] - ETA: 0s - loss: 0.1267 - accuracy: 0.9535INFO:tensorflow:Assets written to: ./checkpoints/ckpt_1_ANN\\Consumption_ANN_2FC_F64_64_epoch_25_3layers\\assets\n",
      "611/611 [==============================] - 3s 5ms/step - loss: 0.1265 - accuracy: 0.9536 - val_loss: 0.1219 - val_accuracy: 0.9550\n",
      "Epoch 10/25\n",
      "611/611 [==============================] - 2s 3ms/step - loss: 0.1197 - accuracy: 0.9560 - val_loss: 0.1404 - val_accuracy: 0.9400\n",
      "Epoch 11/25\n",
      "600/611 [============================>.] - ETA: 0s - loss: 0.1165 - accuracy: 0.9535INFO:tensorflow:Assets written to: ./checkpoints/ckpt_1_ANN\\Consumption_ANN_2FC_F64_64_epoch_25_3layers\\assets\n",
      "611/611 [==============================] - 3s 5ms/step - loss: 0.1167 - accuracy: 0.9537 - val_loss: 0.1073 - val_accuracy: 0.9565\n",
      "Epoch 12/25\n",
      "606/611 [============================>.] - ETA: 0s - loss: 0.1076 - accuracy: 0.9599INFO:tensorflow:Assets written to: ./checkpoints/ckpt_1_ANN\\Consumption_ANN_2FC_F64_64_epoch_25_3layers\\assets\n",
      "611/611 [==============================] - 4s 6ms/step - loss: 0.1080 - accuracy: 0.9598 - val_loss: 0.0975 - val_accuracy: 0.9608\n",
      "Epoch 13/25\n",
      "611/611 [==============================] - 2s 4ms/step - loss: 0.1033 - accuracy: 0.9597 - val_loss: 0.1136 - val_accuracy: 0.9558\n",
      "Epoch 14/25\n",
      "611/611 [==============================] - 2s 3ms/step - loss: 0.0966 - accuracy: 0.9622 - val_loss: 0.1432 - val_accuracy: 0.9458\n",
      "Epoch 15/25\n",
      "611/611 [==============================] - 2s 4ms/step - loss: 0.1054 - accuracy: 0.9607 - val_loss: 0.2326 - val_accuracy: 0.9346\n",
      "Epoch 16/25\n",
      "607/611 [============================>.] - ETA: 0s - loss: 0.0983 - accuracy: 0.9614INFO:tensorflow:Assets written to: ./checkpoints/ckpt_1_ANN\\Consumption_ANN_2FC_F64_64_epoch_25_3layers\\assets\n",
      "611/611 [==============================] - 3s 5ms/step - loss: 0.0982 - accuracy: 0.9616 - val_loss: 0.0910 - val_accuracy: 0.9650\n",
      "Epoch 17/25\n",
      "611/611 [==============================] - 2s 4ms/step - loss: 0.0915 - accuracy: 0.9651 - val_loss: 0.1201 - val_accuracy: 0.9435\n",
      "Epoch 18/25\n",
      "611/611 [==============================] - 3s 5ms/step - loss: 0.0980 - accuracy: 0.9637 - val_loss: 0.1156 - val_accuracy: 0.9496\n",
      "Epoch 19/25\n",
      "607/611 [============================>.] - ETA: 0s - loss: 0.0972 - accuracy: 0.9623INFO:tensorflow:Assets written to: ./checkpoints/ckpt_1_ANN\\Consumption_ANN_2FC_F64_64_epoch_25_3layers\\assets\n",
      "611/611 [==============================] - 4s 6ms/step - loss: 0.0972 - accuracy: 0.9623 - val_loss: 0.0894 - val_accuracy: 0.9600\n",
      "Epoch 20/25\n",
      "598/611 [============================>.] - ETA: 0s - loss: 0.0844 - accuracy: 0.9669INFO:tensorflow:Assets written to: ./checkpoints/ckpt_1_ANN\\Consumption_ANN_2FC_F64_64_epoch_25_3layers\\assets\n",
      "611/611 [==============================] - 3s 5ms/step - loss: 0.0850 - accuracy: 0.9664 - val_loss: 0.0880 - val_accuracy: 0.9608\n",
      "Epoch 21/25\n",
      "611/611 [==============================] - 2s 3ms/step - loss: 0.0873 - accuracy: 0.9634 - val_loss: 0.0884 - val_accuracy: 0.9631\n",
      "Epoch 22/25\n",
      "611/611 [==============================] - 2s 3ms/step - loss: 0.0876 - accuracy: 0.9642 - val_loss: 0.0988 - val_accuracy: 0.9569\n",
      "Epoch 23/25\n",
      "611/611 [==============================] - 2s 3ms/step - loss: 0.0837 - accuracy: 0.9677 - val_loss: 0.0968 - val_accuracy: 0.9635\n",
      "Epoch 24/25\n",
      "611/611 [==============================] - 2s 3ms/step - loss: 0.0858 - accuracy: 0.9662 - val_loss: 0.0927 - val_accuracy: 0.9646\n",
      "Epoch 25/25\n",
      "611/611 [==============================] - 2s 4ms/step - loss: 0.0834 - accuracy: 0.9671 - val_loss: 0.0900 - val_accuracy: 0.9612\n"
     ]
    },
    {
     "data": {
      "image/png": "[encoded data removed]",
      "text/plain": [
       "<Figure size 432x288 with 1 Axes>"
      ]
     },
     "metadata": {
      "needs_background": "light"
     },
     "output_type": "display_data"
    },
    {
     "data": {
      "image/png": "[encoded data removed]",
      "text/plain": [
       "<Figure size 432x288 with 1 Axes>"
      ]
     },
     "metadata": {
      "needs_background": "light"
     },
     "output_type": "display_data"
    },
    {
     "name": "stdout",
     "output_type": "stream",
     "text": [
      "131/131 [==============================] - 0s 2ms/step - loss: 0.0649 - accuracy: 0.9744\n",
      "\n",
      "Test Accuracy: 0.9744274616241455\n"
     ]
    }
   ],
   "source": [
    "import pandas as pd\n",
    "import numpy as np\n",
    "import os\n",
    "import shutil\n",
    "import pickle as pk\n",
    "import matplotlib.pyplot as plt\n",
    "\n",
    "from sklearn.preprocessing import OneHotEncoder\n",
    "from sklearn.model_selection import train_test_split\n",
    "\n",
    "from keras import models\n",
    "from keras import layers\n",
    "from keras.callbacks import EarlyStopping, ModelCheckpoint\n",
    "from keras.models import load_model\n",
    "\n",
    "df = pd.read_csv('consumption_known_vars.csv')\n",
    "df.drop(\"Unnamed: 0\", axis=1, inplace=True)\n",
    "\n",
    "x = df.drop('AnomalyType', axis=1)\n",
    "y = df['AnomalyType']\n",
    "\n",
    "encoder = OneHotEncoder()\n",
    "\n",
    "encoded_Y = encoder.fit(y.values.reshape(-1,1))\n",
    "encoded_Y = encoded_Y.transform(y.values.reshape(-1,1)).toarray()\n",
    "\n",
    "train_ratio = 0.70\n",
    "validation_ratio = 0.15\n",
    "test_ratio = 0.15\n",
    "\n",
    "# Generate TrainX and TrainY\n",
    "trainX, testX, trainY, testY = train_test_split(x, encoded_Y, test_size= 1 - train_ratio)\n",
    "# Genearate ValX, TestX, ValY and TestY\n",
    "valX, testX, valY, testY = train_test_split(testX, testY, test_size=test_ratio/(test_ratio + validation_ratio))\n",
    "\n",
    "checkpoint_no = 'ckpt_1_ANN'\n",
    "model_name = 'Consumption_ANN_2FC_F64_64_epoch_25_3layers'\n",
    "\n",
    "input_shape = trainX.shape[1]\n",
    "\n",
    "n_batch_size = 20\n",
    "\n",
    "n_steps_per_epoch = int(trainX.shape[0] / n_batch_size)\n",
    "n_validation_steps = int(valX.shape[0] / n_batch_size)\n",
    "n_test_steps = int(testX.shape[0] / n_batch_size)\n",
    "\n",
    "n_epochs = 25\n",
    "\n",
    "num_classes = trainY.shape[1]\n",
    "\n",
    "model = models.Sequential()\n",
    "model.add(layers.Dense(64, activation='relu', input_shape=(input_shape,)))\n",
    "model.add(layers.Dense(64, activation='relu'))\n",
    "model.add(layers.Dense(64, activation='relu'))\n",
    "model.add(layers.Dense(num_classes, activation='softmax'))\n",
    "\n",
    "model.compile(loss='categorical_crossentropy',\n",
    "              optimizer='adam',\n",
    "              metrics=['accuracy'])\n",
    "\n",
    "checkpoint_dir = './checkpoints/'+ checkpoint_no\n",
    "if not os.path.exists(checkpoint_dir):\n",
    "    os.makedirs(checkpoint_dir)\n",
    "    \n",
    "keras_callbacks = [ModelCheckpoint(filepath = checkpoint_dir + '/' + model_name, \n",
    "                                   monitor='val_loss', save_best_only=True, mode='auto')]\n",
    "\n",
    "history = model.fit(trainX,\n",
    "                    trainY,\n",
    "                    steps_per_epoch=n_steps_per_epoch,\n",
    "                    epochs=n_epochs,\n",
    "                    batch_size=n_batch_size,\n",
    "                    validation_data=(valX, valY),\n",
    "                    validation_steps=n_validation_steps,\n",
    "                    callbacks=[keras_callbacks])\n",
    "\n",
    "hist_df = pd.DataFrame(history.history)\n",
    "hist_df['epoch'] = hist_df.index + 1\n",
    "cols = list(hist_df.columns)\n",
    "cols = [cols[-1]] + cols[:-1]\n",
    "hist_df = hist_df[cols]\n",
    "hist_df.to_csv(\"./checkpoints/\" +checkpoint_no + '/' + 'history_df_' + model_name + '.csv')\n",
    "\n",
    "values_of_best_model = hist_df[hist_df.val_loss == hist_df.val_loss.min()]\n",
    "\n",
    "class_assignment = dict(zip(y, encoded_Y))\n",
    "\n",
    "df_temp = pd.DataFrame([class_assignment], columns=class_assignment.keys())\n",
    "df_temp = df_temp.stack()\n",
    "df_temp = pd.DataFrame(df_temp).reset_index().drop(['level_0'], axis=1)\n",
    "df_temp.columns = ['Category', 'Allocated Number']\n",
    "\n",
    "df_temp.to_csv(\"./checkpoints/\"+checkpoint_no + '/' + 'class_assignment_df_' + model_name + '.csv')\n",
    "\n",
    "pk.dump(encoder, open(\"./checkpoints/\" + checkpoint_no + '/' + 'encoder.pkl', 'wb'))\n",
    "\n",
    "acc = history.history['accuracy']\n",
    "val_acc = history.history['val_accuracy']\n",
    "loss = history.history['loss']\n",
    "val_loss = history.history['val_loss']\n",
    "\n",
    "epochs = range(1, len(acc) + 1)\n",
    "\n",
    "plt.plot(epochs, acc, 'bo', label='Training acc')\n",
    "plt.plot(epochs, val_acc, 'b', label='Validation acc')\n",
    "plt.title('Training and validation accuracy')\n",
    "plt.legend()\n",
    "\n",
    "plt.figure()\n",
    "\n",
    "plt.plot(epochs, loss, 'bo', label='Training loss')\n",
    "plt.plot(epochs, val_loss, 'b', label='Validation loss')\n",
    "plt.title('Training and validation loss')\n",
    "plt.legend()\n",
    "\n",
    "plt.show()\n",
    "\n",
    "# Loading the automatically saved model\n",
    "model_reloaded = load_model(\"./checkpoints/\"+checkpoint_no + '/' + model_name)\n",
    "\n",
    "# Saving the best model in the correct path and format\n",
    "root_directory = os.getcwd()\n",
    "checkpoint_dir = os.path.join(root_directory, checkpoint_no)\n",
    "model_name_temp = os.path.join(checkpoint_dir, model_name + '.h5')\n",
    "model_reloaded.save(model_name_temp)\n",
    "\n",
    "# Deletion of the automatically created folder under Model Checkpoint File.\n",
    "folder_name_temp = os.path.join(checkpoint_dir, model_name)\n",
    "shutil.rmtree(folder_name_temp, ignore_errors=True)\n",
    "\n",
    "best_model = load_model(model_name_temp)\n",
    "\n",
    "test_loss, test_acc = best_model.evaluate(testX,\n",
    "                                          testY,\n",
    "                                          steps=n_test_steps)\n",
    "print()\n",
    "print('Test Accuracy:', test_acc)"
   ]
  },
  {
   "cell_type": "code",
   "execution_count": 12,
   "id": "1449b652",
   "metadata": {},
   "outputs": [
    {
     "data": {
      "text/html": [
       "<div>\n",
       "<style scoped>\n",
       "    .dataframe tbody tr th:only-of-type {\n",
       "        vertical-align: middle;\n",
       "    }\n",
       "\n",
       "    .dataframe tbody tr th {\n",
       "        vertical-align: top;\n",
       "    }\n",
       "\n",
       "    .dataframe thead th {\n",
       "        text-align: right;\n",
       "    }\n",
       "</style>\n",
       "<table border=\"1\" class=\"dataframe\">\n",
       "  <thead>\n",
       "    <tr style=\"text-align: right;\">\n",
       "      <th></th>\n",
       "      <th>epoch</th>\n",
       "      <th>loss</th>\n",
       "      <th>accuracy</th>\n",
       "      <th>val_loss</th>\n",
       "      <th>val_accuracy</th>\n",
       "    </tr>\n",
       "  </thead>\n",
       "  <tbody>\n",
       "    <tr>\n",
       "      <th>19</th>\n",
       "      <td>20</td>\n",
       "      <td>0.084954</td>\n",
       "      <td>0.966396</td>\n",
       "      <td>0.087971</td>\n",
       "      <td>0.960769</td>\n",
       "    </tr>\n",
       "  </tbody>\n",
       "</table>\n",
       "</div>"
      ],
      "text/plain": [
       "    epoch      loss  accuracy  val_loss  val_accuracy\n",
       "19     20  0.084954  0.966396  0.087971      0.960769"
      ]
     },
     "execution_count": 12,
     "metadata": {},
     "output_type": "execute_result"
    }
   ],
   "source": [
    "values_of_best_model"
   ]
  },
  {
   "cell_type": "markdown",
   "id": "7e4d5923",
   "metadata": {},
   "source": [
    "# 1 Layer"
   ]
  },
  {
   "cell_type": "code",
   "execution_count": 169,
   "id": "1967362b",
   "metadata": {},
   "outputs": [
    {
     "name": "stdout",
     "output_type": "stream",
     "text": [
      "Epoch 1/25\n",
      "611/611 [==============================] - ETA: 0s - loss: 0.3878 - accuracy: 0.9020INFO:tensorflow:Assets written to: ./checkpoints/ckpt_1_ANN\\Consumption_ANN_2FC_F64_64_epoch_25_3layers\\assets\n",
      "611/611 [==============================] - 4s 5ms/step - loss: 0.3878 - accuracy: 0.9020 - val_loss: 0.3928 - val_accuracy: 0.9065\n",
      "Epoch 2/25\n",
      "610/611 [============================>.] - ETA: 0s - loss: 0.3100 - accuracy: 0.9084INFO:tensorflow:Assets written to: ./checkpoints/ckpt_1_ANN\\Consumption_ANN_2FC_F64_64_epoch_25_3layers\\assets\n",
      "611/611 [==============================] - 4s 6ms/step - loss: 0.3095 - accuracy: 0.9085 - val_loss: 0.2470 - val_accuracy: 0.9215\n",
      "Epoch 3/25\n",
      "602/611 [============================>.] - ETA: 0s - loss: 0.2513 - accuracy: 0.9196INFO:tensorflow:Assets written to: ./checkpoints/ckpt_1_ANN\\Consumption_ANN_2FC_F64_64_epoch_25_3layers\\assets\n",
      "611/611 [==============================] - 4s 7ms/step - loss: 0.2516 - accuracy: 0.9194 - val_loss: 0.2241 - val_accuracy: 0.9219\n",
      "Epoch 4/25\n",
      "611/611 [==============================] - 2s 3ms/step - loss: 0.2288 - accuracy: 0.9266 - val_loss: 0.2254 - val_accuracy: 0.9273\n",
      "Epoch 5/25\n",
      "593/611 [============================>.] - ETA: 0s - loss: 0.2214 - accuracy: 0.9272INFO:tensorflow:Assets written to: ./checkpoints/ckpt_1_ANN\\Consumption_ANN_2FC_F64_64_epoch_25_3layers\\assets\n",
      "611/611 [==============================] - 3s 5ms/step - loss: 0.2224 - accuracy: 0.9268 - val_loss: 0.2208 - val_accuracy: 0.9265\n",
      "Epoch 6/25\n",
      "601/611 [============================>.] - ETA: 0s - loss: 0.2249 - accuracy: 0.9253INFO:tensorflow:Assets written to: ./checkpoints/ckpt_1_ANN\\Consumption_ANN_2FC_F64_64_epoch_25_3layers\\assets\n",
      "611/611 [==============================] - 3s 5ms/step - loss: 0.2237 - accuracy: 0.9257 - val_loss: 0.2025 - val_accuracy: 0.9300\n",
      "Epoch 7/25\n",
      "611/611 [==============================] - 2s 3ms/step - loss: 0.1975 - accuracy: 0.9327 - val_loss: 0.2420 - val_accuracy: 0.9288\n",
      "Epoch 8/25\n",
      "603/611 [============================>.] - ETA: 0s - loss: 0.1839 - accuracy: 0.9375INFO:tensorflow:Assets written to: ./checkpoints/ckpt_1_ANN\\Consumption_ANN_2FC_F64_64_epoch_25_3layers\\assets\n",
      "611/611 [==============================] - 3s 5ms/step - loss: 0.1836 - accuracy: 0.9375 - val_loss: 0.1666 - val_accuracy: 0.9381\n",
      "Epoch 9/25\n",
      "611/611 [==============================] - 2s 4ms/step - loss: 0.1664 - accuracy: 0.9402 - val_loss: 0.1719 - val_accuracy: 0.9362\n",
      "Epoch 10/25\n",
      "610/611 [============================>.] - ETA: 0s - loss: 0.1552 - accuracy: 0.9436INFO:tensorflow:Assets written to: ./checkpoints/ckpt_1_ANN\\Consumption_ANN_2FC_F64_64_epoch_25_3layers\\assets\n",
      "611/611 [==============================] - 3s 5ms/step - loss: 0.1552 - accuracy: 0.9436 - val_loss: 0.1625 - val_accuracy: 0.9427\n",
      "Epoch 11/25\n",
      "606/611 [============================>.] - ETA: 0s - loss: 0.1412 - accuracy: 0.9484INFO:tensorflow:Assets written to: ./checkpoints/ckpt_1_ANN\\Consumption_ANN_2FC_F64_64_epoch_25_3layers\\assets\n",
      "611/611 [==============================] - 3s 5ms/step - loss: 0.1407 - accuracy: 0.9484 - val_loss: 0.1442 - val_accuracy: 0.9392\n",
      "Epoch 12/25\n",
      "611/611 [==============================] - 2s 4ms/step - loss: 0.1342 - accuracy: 0.9530 - val_loss: 0.1567 - val_accuracy: 0.9446\n",
      "Epoch 13/25\n",
      "602/611 [============================>.] - ETA: 0s - loss: 0.1259 - accuracy: 0.9544INFO:tensorflow:Assets written to: ./checkpoints/ckpt_1_ANN\\Consumption_ANN_2FC_F64_64_epoch_25_3layers\\assets\n",
      "611/611 [==============================] - 4s 6ms/step - loss: 0.1259 - accuracy: 0.9544 - val_loss: 0.1266 - val_accuracy: 0.9508\n",
      "Epoch 14/25\n",
      "611/611 [==============================] - 3s 4ms/step - loss: 0.1214 - accuracy: 0.9562 - val_loss: 0.1322 - val_accuracy: 0.9523\n",
      "Epoch 15/25\n",
      "611/611 [==============================] - ETA: 0s - loss: 0.1125 - accuracy: 0.9584INFO:tensorflow:Assets written to: ./checkpoints/ckpt_1_ANN\\Consumption_ANN_2FC_F64_64_epoch_25_3layers\\assets\n",
      "611/611 [==============================] - 3s 6ms/step - loss: 0.1125 - accuracy: 0.9584 - val_loss: 0.1112 - val_accuracy: 0.9577\n",
      "Epoch 16/25\n",
      "611/611 [==============================] - 2s 4ms/step - loss: 0.1122 - accuracy: 0.9570 - val_loss: 0.1154 - val_accuracy: 0.9558\n",
      "Epoch 17/25\n",
      "603/611 [============================>.] - ETA: 0s - loss: 0.1017 - accuracy: 0.9608INFO:tensorflow:Assets written to: ./checkpoints/ckpt_1_ANN\\Consumption_ANN_2FC_F64_64_epoch_25_3layers\\assets\n",
      "611/611 [==============================] - 3s 5ms/step - loss: 0.1019 - accuracy: 0.9608 - val_loss: 0.0880 - val_accuracy: 0.9612\n",
      "Epoch 18/25\n",
      "611/611 [==============================] - 2s 4ms/step - loss: 0.0918 - accuracy: 0.9628 - val_loss: 0.0995 - val_accuracy: 0.9631\n",
      "Epoch 19/25\n",
      "611/611 [==============================] - 2s 3ms/step - loss: 0.0971 - accuracy: 0.9622 - val_loss: 0.0904 - val_accuracy: 0.9658\n",
      "Epoch 20/25\n",
      "611/611 [==============================] - 2s 3ms/step - loss: 0.0939 - accuracy: 0.9630 - val_loss: 0.0929 - val_accuracy: 0.9619\n",
      "Epoch 21/25\n",
      "611/611 [==============================] - 2s 3ms/step - loss: 0.0937 - accuracy: 0.9648 - val_loss: 0.1607 - val_accuracy: 0.9385\n",
      "Epoch 22/25\n",
      "611/611 [==============================] - 2s 3ms/step - loss: 0.0858 - accuracy: 0.9650 - val_loss: 0.0990 - val_accuracy: 0.9569\n",
      "Epoch 23/25\n",
      "611/611 [==============================] - 2s 3ms/step - loss: 0.0870 - accuracy: 0.9639 - val_loss: 0.0901 - val_accuracy: 0.9662\n",
      "Epoch 24/25\n",
      "611/611 [==============================] - 3s 4ms/step - loss: 0.0868 - accuracy: 0.9667 - val_loss: 0.1339 - val_accuracy: 0.9458\n",
      "Epoch 25/25\n",
      "611/611 [==============================] - 2s 3ms/step - loss: 0.0864 - accuracy: 0.9640 - val_loss: 0.1300 - val_accuracy: 0.9504\n"
     ]
    },
    {
     "data": {
      "image/png": "[encoded data removed]",
      "text/plain": [
       "<Figure size 432x288 with 1 Axes>"
      ]
     },
     "metadata": {
      "needs_background": "light"
     },
     "output_type": "display_data"
    },
    {
     "data": {
      "image/png": "[encoded data removed]",
      "text/plain": [
       "<Figure size 432x288 with 1 Axes>"
      ]
     },
     "metadata": {
      "needs_background": "light"
     },
     "output_type": "display_data"
    },
    {
     "name": "stdout",
     "output_type": "stream",
     "text": [
      "131/131 [==============================] - 0s 2ms/step - loss: 0.0840 - accuracy: 0.9649\n",
      "\n",
      "Test Accuracy: 0.9648854732513428\n"
     ]
    }
   ],
   "source": [
    "import pandas as pd\n",
    "import numpy as np\n",
    "import os\n",
    "import shutil\n",
    "import pickle as pk\n",
    "import matplotlib.pyplot as plt\n",
    "\n",
    "from sklearn.preprocessing import OneHotEncoder\n",
    "from sklearn.model_selection import train_test_split\n",
    "\n",
    "from keras import models\n",
    "from keras import layers\n",
    "from keras.callbacks import EarlyStopping, ModelCheckpoint\n",
    "from keras.models import load_model\n",
    "\n",
    "df = pd.read_csv('consumption_known_vars.csv')\n",
    "df.drop(\"Unnamed: 0\", axis=1, inplace=True)\n",
    "\n",
    "x = df.drop('AnomalyType', axis=1)\n",
    "y = df['AnomalyType']\n",
    "\n",
    "encoder = OneHotEncoder()\n",
    "\n",
    "encoded_Y = encoder.fit(y.values.reshape(-1,1))\n",
    "encoded_Y = encoded_Y.transform(y.values.reshape(-1,1)).toarray()\n",
    "\n",
    "train_ratio = 0.70\n",
    "validation_ratio = 0.15\n",
    "test_ratio = 0.15\n",
    "\n",
    "# Generate TrainX and TrainY\n",
    "trainX, testX, trainY, testY = train_test_split(x, encoded_Y, test_size= 1 - train_ratio)\n",
    "# Genearate ValX, TestX, ValY and TestY\n",
    "valX, testX, valY, testY = train_test_split(testX, testY, test_size=test_ratio/(test_ratio + validation_ratio))\n",
    "\n",
    "checkpoint_no = 'ckpt_1_ANN'\n",
    "model_name = 'Consumption_ANN_2FC_F64_64_epoch_25_3layers'\n",
    "\n",
    "input_shape = trainX.shape[1]\n",
    "\n",
    "n_batch_size = 20\n",
    "\n",
    "n_steps_per_epoch = int(trainX.shape[0] / n_batch_size)\n",
    "n_validation_steps = int(valX.shape[0] / n_batch_size)\n",
    "n_test_steps = int(testX.shape[0] / n_batch_size)\n",
    "\n",
    "n_epochs = 25\n",
    "\n",
    "num_classes = trainY.shape[1]\n",
    "\n",
    "model = models.Sequential()\n",
    "model.add(layers.Dense(120, activation='relu', input_shape=(input_shape,)))\n",
    "model.add(layers.Dense(120, activation='relu'))\n",
    "model.add(layers.Dense(120, activation='relu'))\n",
    "model.add(layers.Dense(120, activation='relu'))\n",
    "model.add(layers.Dense(num_classes, activation='softmax'))\n",
    "\n",
    "model.compile(loss='categorical_crossentropy',\n",
    "              optimizer='adam',\n",
    "              metrics=['accuracy'])\n",
    "\n",
    "checkpoint_dir = './checkpoints/'+ checkpoint_no\n",
    "if not os.path.exists(checkpoint_dir):\n",
    "    os.makedirs(checkpoint_dir)\n",
    "    \n",
    "keras_callbacks = [ModelCheckpoint(filepath = checkpoint_dir + '/' + model_name, \n",
    "                                   monitor='val_loss', save_best_only=True, mode='auto')]\n",
    "\n",
    "history = model.fit(trainX,\n",
    "                    trainY,\n",
    "                    steps_per_epoch=n_steps_per_epoch,\n",
    "                    epochs=n_epochs,\n",
    "                    batch_size=n_batch_size,\n",
    "                    validation_data=(valX, valY),\n",
    "                    validation_steps=n_validation_steps,\n",
    "                    callbacks=[keras_callbacks])\n",
    "\n",
    "hist_df = pd.DataFrame(history.history)\n",
    "hist_df['epoch'] = hist_df.index + 1\n",
    "cols = list(hist_df.columns)\n",
    "cols = [cols[-1]] + cols[:-1]\n",
    "hist_df = hist_df[cols]\n",
    "hist_df.to_csv(\"./checkpoints/\" +checkpoint_no + '/' + 'history_df_' + model_name + '.csv')\n",
    "\n",
    "values_of_best_model = hist_df[hist_df.val_loss == hist_df.val_loss.min()]\n",
    "\n",
    "class_assignment = dict(zip(y, encoded_Y))\n",
    "\n",
    "df_temp = pd.DataFrame([class_assignment], columns=class_assignment.keys())\n",
    "df_temp = df_temp.stack()\n",
    "df_temp = pd.DataFrame(df_temp).reset_index().drop(['level_0'], axis=1)\n",
    "df_temp.columns = ['Category', 'Allocated Number']\n",
    "\n",
    "df_temp.to_csv(\"./checkpoints/\"+checkpoint_no + '/' + 'class_assignment_df_' + model_name + '.csv')\n",
    "\n",
    "pk.dump(encoder, open(\"./checkpoints/\" + checkpoint_no + '/' + 'encoder.pkl', 'wb'))\n",
    "\n",
    "acc = history.history['accuracy']\n",
    "val_acc = history.history['val_accuracy']\n",
    "loss = history.history['loss']\n",
    "val_loss = history.history['val_loss']\n",
    "\n",
    "epochs = range(1, len(acc) + 1)\n",
    "\n",
    "plt.plot(epochs, acc, 'bo', label='Training acc')\n",
    "plt.plot(epochs, val_acc, 'b', label='Validation acc')\n",
    "plt.title('Training and validation accuracy')\n",
    "plt.legend()\n",
    "\n",
    "plt.figure()\n",
    "\n",
    "plt.plot(epochs, loss, 'bo', label='Training loss')\n",
    "plt.plot(epochs, val_loss, 'b', label='Validation loss')\n",
    "plt.title('Training and validation loss')\n",
    "plt.legend()\n",
    "\n",
    "plt.show()\n",
    "\n",
    "# Loading the automatically saved model\n",
    "model_reloaded = load_model(\"./checkpoints/\"+checkpoint_no + '/' + model_name)\n",
    "\n",
    "# Saving the best model in the correct path and format\n",
    "root_directory = os.getcwd()\n",
    "checkpoint_dir = os.path.join(root_directory, checkpoint_no)\n",
    "model_name_temp = os.path.join(checkpoint_dir, model_name + '.h5')\n",
    "model_reloaded.save(model_name_temp)\n",
    "\n",
    "# Deletion of the automatically created folder under Model Checkpoint File.\n",
    "folder_name_temp = os.path.join(checkpoint_dir, model_name)\n",
    "shutil.rmtree(folder_name_temp, ignore_errors=True)\n",
    "\n",
    "best_model = load_model(model_name_temp)\n",
    "\n",
    "test_loss, test_acc = best_model.evaluate(testX,\n",
    "                                          testY,\n",
    "                                          steps=n_test_steps)\n",
    "print()\n",
    "print('Test Accuracy:', test_acc)"
   ]
  },
  {
   "cell_type": "code",
   "execution_count": 77,
   "id": "f8b7d875",
   "metadata": {
    "scrolled": false
   },
   "outputs": [
    {
     "name": "stdout",
     "output_type": "stream",
     "text": [
      "Epoch 1/25\n",
      "607/611 [============================>.] - ETA: 0s - loss: 0.2708 - accuracy: 0.9156INFO:tensorflow:Assets written to: ./checkpoints/ckpt_1_ANN\\Consumption_ANN_2FC_F64_64_epoch_25_3layers\\assets\n",
      "611/611 [==============================] - 6s 7ms/step - loss: 0.2705 - accuracy: 0.9157 - val_loss: 0.2236 - val_accuracy: 0.9181\n",
      "Epoch 2/25\n",
      "611/611 [==============================] - 3s 5ms/step - loss: 0.2068 - accuracy: 0.9243 - val_loss: 0.2289 - val_accuracy: 0.9181\n",
      "Epoch 3/25\n",
      "599/611 [============================>.] - ETA: 0s - loss: 0.1977 - accuracy: 0.9275INFO:tensorflow:Assets written to: ./checkpoints/ckpt_1_ANN\\Consumption_ANN_2FC_F64_64_epoch_25_3layers\\assets\n",
      "611/611 [==============================] - 5s 7ms/step - loss: 0.1973 - accuracy: 0.9275 - val_loss: 0.2088 - val_accuracy: 0.9231\n",
      "Epoch 4/25\n",
      "608/611 [============================>.] - ETA: 0s - loss: 0.1903 - accuracy: 0.9319INFO:tensorflow:Assets written to: ./checkpoints/ckpt_1_ANN\\Consumption_ANN_2FC_F64_64_epoch_25_3layers\\assets\n",
      "611/611 [==============================] - 6s 9ms/step - loss: 0.1900 - accuracy: 0.9320 - val_loss: 0.2085 - val_accuracy: 0.9254\n",
      "Epoch 5/25\n",
      "611/611 [==============================] - 3s 5ms/step - loss: 0.1801 - accuracy: 0.9334 - val_loss: 0.2261 - val_accuracy: 0.9169\n",
      "Epoch 6/25\n",
      "603/611 [============================>.] - ETA: 0s - loss: 0.1671 - accuracy: 0.9385INFO:tensorflow:Assets written to: ./checkpoints/ckpt_1_ANN\\Consumption_ANN_2FC_F64_64_epoch_25_3layers\\assets\n",
      "611/611 [==============================] - 4s 6ms/step - loss: 0.1660 - accuracy: 0.9390 - val_loss: 0.1778 - val_accuracy: 0.9350\n",
      "Epoch 7/25\n",
      "601/611 [============================>.] - ETA: 0s - loss: 0.1550 - accuracy: 0.9422INFO:tensorflow:Assets written to: ./checkpoints/ckpt_1_ANN\\Consumption_ANN_2FC_F64_64_epoch_25_3layers\\assets\n",
      "611/611 [==============================] - 5s 8ms/step - loss: 0.1536 - accuracy: 0.9427 - val_loss: 0.1724 - val_accuracy: 0.9335\n",
      "Epoch 8/25\n",
      "611/611 [==============================] - 3s 5ms/step - loss: 0.1459 - accuracy: 0.9467 - val_loss: 0.2092 - val_accuracy: 0.9188\n",
      "Epoch 9/25\n",
      "604/611 [============================>.] - ETA: 0s - loss: 0.1428 - accuracy: 0.9465INFO:tensorflow:Assets written to: ./checkpoints/ckpt_1_ANN\\Consumption_ANN_2FC_F64_64_epoch_25_3layers\\assets\n",
      "611/611 [==============================] - 4s 7ms/step - loss: 0.1423 - accuracy: 0.9466 - val_loss: 0.1558 - val_accuracy: 0.9400\n",
      "Epoch 10/25\n",
      "611/611 [==============================] - 3s 5ms/step - loss: 0.1410 - accuracy: 0.9465 - val_loss: 0.1603 - val_accuracy: 0.9404\n",
      "Epoch 11/25\n",
      "610/611 [============================>.] - ETA: 0s - loss: 0.1377 - accuracy: 0.9475INFO:tensorflow:Assets written to: ./checkpoints/ckpt_1_ANN\\Consumption_ANN_2FC_F64_64_epoch_25_3layers\\assets\n",
      "611/611 [==============================] - 5s 8ms/step - loss: 0.1376 - accuracy: 0.9475 - val_loss: 0.1506 - val_accuracy: 0.9400\n",
      "Epoch 12/25\n",
      "602/611 [============================>.] - ETA: 0s - loss: 0.1347 - accuracy: 0.9486INFO:tensorflow:Assets written to: ./checkpoints/ckpt_1_ANN\\Consumption_ANN_2FC_F64_64_epoch_25_3layers\\assets\n",
      "611/611 [==============================] - 5s 8ms/step - loss: 0.1341 - accuracy: 0.9488 - val_loss: 0.1402 - val_accuracy: 0.9458\n",
      "Epoch 13/25\n",
      "611/611 [==============================] - 3s 5ms/step - loss: 0.1294 - accuracy: 0.9497 - val_loss: 0.1412 - val_accuracy: 0.9473\n",
      "Epoch 14/25\n",
      "611/611 [==============================] - 3s 5ms/step - loss: 0.1302 - accuracy: 0.9507 - val_loss: 0.1531 - val_accuracy: 0.9408\n",
      "Epoch 15/25\n",
      "611/611 [==============================] - 3s 5ms/step - loss: 0.1267 - accuracy: 0.9510 - val_loss: 0.1482 - val_accuracy: 0.9392\n",
      "Epoch 16/25\n",
      "611/611 [==============================] - 4s 7ms/step - loss: 0.1320 - accuracy: 0.9495 - val_loss: 0.1622 - val_accuracy: 0.9423\n",
      "Epoch 17/25\n",
      "611/611 [==============================] - 3s 5ms/step - loss: 0.1243 - accuracy: 0.9534 - val_loss: 0.1536 - val_accuracy: 0.9385\n",
      "Epoch 18/25\n",
      "611/611 [==============================] - 3s 4ms/step - loss: 0.1234 - accuracy: 0.9539 - val_loss: 0.1497 - val_accuracy: 0.9442\n",
      "Epoch 19/25\n",
      "611/611 [==============================] - 3s 5ms/step - loss: 0.1235 - accuracy: 0.9505 - val_loss: 0.1436 - val_accuracy: 0.9500\n",
      "Epoch 20/25\n",
      "611/611 [==============================] - 3s 5ms/step - loss: 0.1201 - accuracy: 0.9534 - val_loss: 0.1473 - val_accuracy: 0.9446\n",
      "Epoch 21/25\n",
      "610/611 [============================>.] - ETA: 0s - loss: 0.1191 - accuracy: 0.9546INFO:tensorflow:Assets written to: ./checkpoints/ckpt_1_ANN\\Consumption_ANN_2FC_F64_64_epoch_25_3layers\\assets\n",
      "611/611 [==============================] - 5s 9ms/step - loss: 0.1193 - accuracy: 0.9545 - val_loss: 0.1374 - val_accuracy: 0.9462\n",
      "Epoch 22/25\n",
      "611/611 [==============================] - 3s 5ms/step - loss: 0.1187 - accuracy: 0.9546 - val_loss: 0.1546 - val_accuracy: 0.9415\n",
      "Epoch 23/25\n",
      "608/611 [============================>.] - ETA: 0s - loss: 0.1193 - accuracy: 0.9544INFO:tensorflow:Assets written to: ./checkpoints/ckpt_1_ANN\\Consumption_ANN_2FC_F64_64_epoch_25_3layers\\assets\n",
      "611/611 [==============================] - 5s 7ms/step - loss: 0.1191 - accuracy: 0.9544 - val_loss: 0.1350 - val_accuracy: 0.9454\n",
      "Epoch 24/25\n",
      "611/611 [==============================] - 3s 5ms/step - loss: 0.1166 - accuracy: 0.9554 - val_loss: 0.1368 - val_accuracy: 0.9508\n",
      "Epoch 25/25\n",
      "610/611 [============================>.] - ETA: 0s - loss: 0.1139 - accuracy: 0.9557INFO:tensorflow:Assets written to: ./checkpoints/ckpt_1_ANN\\Consumption_ANN_2FC_F64_64_epoch_25_3layers\\assets\n",
      "611/611 [==============================] - 5s 8ms/step - loss: 0.1138 - accuracy: 0.9557 - val_loss: 0.1333 - val_accuracy: 0.9504\n"
     ]
    },
    {
     "data": {
      "image/png": "[encoded data removed]",
      "text/plain": [
       "<Figure size 432x288 with 1 Axes>"
      ]
     },
     "metadata": {
      "needs_background": "light"
     },
     "output_type": "display_data"
    },
    {
     "data": {
      "image/png": "[encoded data removed]",
      "text/plain": [
       "<Figure size 432x288 with 1 Axes>"
      ]
     },
     "metadata": {
      "needs_background": "light"
     },
     "output_type": "display_data"
    },
    {
     "name": "stdout",
     "output_type": "stream",
     "text": [
      "131/131 [==============================] - 1s 2ms/step - loss: 0.1207 - accuracy: 0.9561\n",
      "\n",
      "Test Accuracy: 0.9561068415641785\n"
     ]
    }
   ],
   "source": [
    "import pandas as pd\n",
    "import numpy as np\n",
    "import os\n",
    "import shutil\n",
    "import pickle as pk\n",
    "import matplotlib.pyplot as plt\n",
    "\n",
    "from sklearn.preprocessing import OneHotEncoder\n",
    "from sklearn.model_selection import train_test_split\n",
    "\n",
    "from keras import models\n",
    "from keras import layers\n",
    "from keras.callbacks import EarlyStopping, ModelCheckpoint\n",
    "from keras.models import load_model\n",
    "\n",
    "df = pd.read_csv('consumption.csv').dropna()\n",
    "df.drop(\"Unnamed: 0\", axis=1, inplace=True)\n",
    "\n",
    "x = df.drop('AnomalyType', axis=1)\n",
    "y = df['AnomalyType']\n",
    "\n",
    "encoder = OneHotEncoder()\n",
    "\n",
    "encoded_Y = encoder.fit(y.values.reshape(-1,1))\n",
    "encoded_Y = encoded_Y.transform(y.values.reshape(-1,1)).toarray()\n",
    "\n",
    "train_ratio = 0.70\n",
    "validation_ratio = 0.15\n",
    "test_ratio = 0.15\n",
    "\n",
    "# Generate TrainX and TrainY\n",
    "trainX, testX, trainY, testY = train_test_split(x, encoded_Y, test_size= 1 - train_ratio)\n",
    "# Genearate ValX, TestX, ValY and TestY\n",
    "valX, testX, valY, testY = train_test_split(testX, testY, test_size=test_ratio/(test_ratio + validation_ratio))\n",
    "\n",
    "checkpoint_no = 'ckpt_1_ANN'\n",
    "model_name = 'Consumption_ANN_2FC_F64_64_epoch_25_3layers'\n",
    "\n",
    "input_shape = trainX.shape[1]\n",
    "\n",
    "n_batch_size = 20\n",
    "\n",
    "n_steps_per_epoch = int(trainX.shape[0] / n_batch_size)\n",
    "n_validation_steps = int(valX.shape[0] / n_batch_size)\n",
    "n_test_steps = int(testX.shape[0] / n_batch_size)\n",
    "\n",
    "n_epochs = 25\n",
    "\n",
    "num_classes = trainY.shape[1]\n",
    "\n",
    "model = models.Sequential()\n",
    "model.add(layers.Dense(64, activation='relu', input_shape=(input_shape,)))\n",
    "model.add(layers.Dense(64, activation='relu'))\n",
    "model.add(layers.Dense(64, activation='relu'))\n",
    "model.add(layers.Dense(64, activation='relu'))\n",
    "model.add(layers.Dense(num_classes, activation='softmax'))\n",
    "\n",
    "model.compile(loss='categorical_crossentropy',\n",
    "              optimizer='adam',\n",
    "              metrics=['accuracy'])\n",
    "\n",
    "checkpoint_dir = './checkpoints/'+ checkpoint_no\n",
    "if not os.path.exists(checkpoint_dir):\n",
    "    os.makedirs(checkpoint_dir)\n",
    "    \n",
    "keras_callbacks = [ModelCheckpoint(filepath = checkpoint_dir + '/' + model_name, \n",
    "                                   monitor='val_loss', save_best_only=True, mode='auto')]\n",
    "\n",
    "history = model.fit(trainX,\n",
    "                    trainY,\n",
    "                    steps_per_epoch=n_steps_per_epoch,\n",
    "                    epochs=n_epochs,\n",
    "                    batch_size=n_batch_size,\n",
    "                    validation_data=(valX, valY),\n",
    "                    validation_steps=n_validation_steps,\n",
    "                    callbacks=[keras_callbacks])\n",
    "\n",
    "hist_df = pd.DataFrame(history.history)\n",
    "hist_df['epoch'] = hist_df.index + 1\n",
    "cols = list(hist_df.columns)\n",
    "cols = [cols[-1]] + cols[:-1]\n",
    "hist_df = hist_df[cols]\n",
    "hist_df.to_csv(\"./checkpoints/\" +checkpoint_no + '/' + 'history_df_' + model_name + '.csv')\n",
    "\n",
    "values_of_best_model = hist_df[hist_df.val_loss == hist_df.val_loss.min()]\n",
    "\n",
    "class_assignment = dict(zip(y, encoded_Y))\n",
    "\n",
    "df_temp = pd.DataFrame([class_assignment], columns=class_assignment.keys())\n",
    "df_temp = df_temp.stack()\n",
    "df_temp = pd.DataFrame(df_temp).reset_index().drop(['level_0'], axis=1)\n",
    "df_temp.columns = ['Category', 'Allocated Number']\n",
    "\n",
    "df_temp.to_csv(\"./checkpoints/\"+checkpoint_no + '/' + 'class_assignment_df_' + model_name + '.csv')\n",
    "\n",
    "pk.dump(encoder, open(\"./checkpoints/\" + checkpoint_no + '/' + 'encoder.pkl', 'wb'))\n",
    "\n",
    "acc = history.history['accuracy']\n",
    "val_acc = history.history['val_accuracy']\n",
    "loss = history.history['loss']\n",
    "val_loss = history.history['val_loss']\n",
    "\n",
    "epochs = range(1, len(acc) + 1)\n",
    "\n",
    "plt.plot(epochs, acc, 'bo', label='Training acc')\n",
    "plt.plot(epochs, val_acc, 'b', label='Validation acc')\n",
    "plt.title('Training and validation accuracy')\n",
    "plt.legend()\n",
    "\n",
    "plt.figure()\n",
    "\n",
    "plt.plot(epochs, loss, 'bo', label='Training loss')\n",
    "plt.plot(epochs, val_loss, 'b', label='Validation loss')\n",
    "plt.title('Training and validation loss')\n",
    "plt.legend()\n",
    "\n",
    "plt.show()\n",
    "\n",
    "# Loading the automatically saved model\n",
    "model_reloaded = load_model(\"./checkpoints/\"+checkpoint_no + '/' + model_name)\n",
    "\n",
    "# Saving the best model in the correct path and format\n",
    "root_directory = os.getcwd()\n",
    "checkpoint_dir = os.path.join(root_directory, checkpoint_no)\n",
    "model_name_temp = os.path.join(checkpoint_dir, model_name + '.h5')\n",
    "model_reloaded.save(model_name_temp)\n",
    "\n",
    "# Deletion of the automatically created folder under Model Checkpoint File.\n",
    "folder_name_temp = os.path.join(checkpoint_dir, model_name)\n",
    "shutil.rmtree(folder_name_temp, ignore_errors=True)\n",
    "\n",
    "best_model = load_model(model_name_temp)\n",
    "\n",
    "test_loss, test_acc = best_model.evaluate(testX,\n",
    "                                          testY,\n",
    "                                          steps=n_test_steps)\n",
    "print()\n",
    "print('Test Accuracy:', test_acc)"
   ]
  },
  {
   "cell_type": "code",
   "execution_count": 68,
   "id": "ffbaa017",
   "metadata": {},
   "outputs": [
    {
     "data": {
      "text/html": [
       "<div>\n",
       "<style scoped>\n",
       "    .dataframe tbody tr th:only-of-type {\n",
       "        vertical-align: middle;\n",
       "    }\n",
       "\n",
       "    .dataframe tbody tr th {\n",
       "        vertical-align: top;\n",
       "    }\n",
       "\n",
       "    .dataframe thead th {\n",
       "        text-align: right;\n",
       "    }\n",
       "</style>\n",
       "<table border=\"1\" class=\"dataframe\">\n",
       "  <thead>\n",
       "    <tr style=\"text-align: right;\">\n",
       "      <th></th>\n",
       "      <th>epoch</th>\n",
       "      <th>loss</th>\n",
       "      <th>accuracy</th>\n",
       "      <th>val_loss</th>\n",
       "      <th>val_accuracy</th>\n",
       "    </tr>\n",
       "  </thead>\n",
       "  <tbody>\n",
       "    <tr>\n",
       "      <th>19</th>\n",
       "      <td>20</td>\n",
       "      <td>0.122111</td>\n",
       "      <td>0.952873</td>\n",
       "      <td>0.132037</td>\n",
       "      <td>0.952308</td>\n",
       "    </tr>\n",
       "  </tbody>\n",
       "</table>\n",
       "</div>"
      ],
      "text/plain": [
       "    epoch      loss  accuracy  val_loss  val_accuracy\n",
       "19     20  0.122111  0.952873  0.132037      0.952308"
      ]
     },
     "execution_count": 68,
     "metadata": {},
     "output_type": "execute_result"
    }
   ],
   "source": [
    "values_of_best_model"
   ]
  },
  {
   "cell_type": "code",
   "execution_count": 55,
   "id": "21a51aeb",
   "metadata": {},
   "outputs": [
    {
     "name": "stdout",
     "output_type": "stream",
     "text": [
      "82/82 [==============================] - 0s 1ms/step\n"
     ]
    }
   ],
   "source": [
    "y_pred = best_model.predict(testX)"
   ]
  },
  {
   "cell_type": "code",
   "execution_count": 56,
   "id": "3e0c8b01",
   "metadata": {},
   "outputs": [],
   "source": [
    "from sklearn.metrics import recall_score\n",
    "from sklearn.metrics import accuracy_score\n",
    "from sklearn.metrics import f1_score"
   ]
  },
  {
   "cell_type": "code",
   "execution_count": 57,
   "id": "62fac7c0",
   "metadata": {},
   "outputs": [],
   "source": [
    "y_pred = (y_pred > 0.5) "
   ]
  },
  {
   "cell_type": "code",
   "execution_count": 58,
   "id": "fe9a3c13",
   "metadata": {},
   "outputs": [],
   "source": [
    "testY = (testY > 0.5)"
   ]
  },
  {
   "cell_type": "code",
   "execution_count": 59,
   "id": "7eb2f514",
   "metadata": {},
   "outputs": [
    {
     "name": "stdout",
     "output_type": "stream",
     "text": [
      "Recall: 0.968\n",
      "F1 Score: 0.970\n"
     ]
    },
    {
     "name": "stderr",
     "output_type": "stream",
     "text": [
      "C:\\Users\\aleks\\anaconda3\\lib\\site-packages\\sklearn\\metrics\\_classification.py:1298: UserWarning: Note that pos_label (set to 'positive') is ignored when average != 'binary' (got 'micro'). You may use labels=[pos_label] to specify a single positive class.\n",
      "  warnings.warn(\"Note that pos_label (set to %r) is ignored when \"\n",
      "C:\\Users\\aleks\\anaconda3\\lib\\site-packages\\sklearn\\metrics\\_classification.py:1298: UserWarning: Note that pos_label (set to 'positive') is ignored when average != 'binary' (got 'micro'). You may use labels=[pos_label] to specify a single positive class.\n",
      "  warnings.warn(\"Note that pos_label (set to %r) is ignored when \"\n"
     ]
    }
   ],
   "source": [
    "print('Recall: %.3f' % recall_score(testY, y_pred, pos_label='positive',\n",
    "                                           average='micro'))\n",
    "print('F1 Score: %.3f' % f1_score(testY, y_pred, pos_label='positive',\n",
    "                                           average='micro'))"
   ]
  },
  {
   "cell_type": "code",
   "execution_count": 38,
   "id": "c880fd53",
   "metadata": {},
   "outputs": [
    {
     "data": {
      "text/plain": [
       "array([ True, False, False, False])"
      ]
     },
     "execution_count": 38,
     "metadata": {},
     "output_type": "execute_result"
    }
   ],
   "source": [
    "testY[0]"
   ]
  },
  {
   "cell_type": "code",
   "execution_count": 36,
   "id": "1c025699",
   "metadata": {},
   "outputs": [
    {
     "data": {
      "text/plain": [
       "array([ True, False, False, False])"
      ]
     },
     "execution_count": 36,
     "metadata": {},
     "output_type": "execute_result"
    }
   ],
   "source": [
    "y_pred[0]"
   ]
  },
  {
   "cell_type": "markdown",
   "id": "d088e7e4",
   "metadata": {},
   "source": [
    "Logistic regression"
   ]
  },
  {
   "cell_type": "code",
   "execution_count": 81,
   "id": "fe36a6bb",
   "metadata": {},
   "outputs": [
    {
     "name": "stdout",
     "output_type": "stream",
     "text": [
      "X_train dimension=  (12222, 4)\n",
      "X_test dimension=  (5238, 4)\n",
      "y_train dimension=  (12222,)\n",
      "y_train dimension=  (5238,)\n",
      "              precision    recall  f1-score   support\n",
      "\n",
      "           0       0.93      0.99      0.96      4720\n",
      "           1       0.50      0.17      0.25       149\n",
      "           2       0.44      0.08      0.13       151\n",
      "           3       0.27      0.15      0.19       218\n",
      "\n",
      "    accuracy                           0.91      5238\n",
      "   macro avg       0.54      0.35      0.38      5238\n",
      "weighted avg       0.88      0.91      0.88      5238\n",
      "\n"
     ]
    }
   ],
   "source": [
    "import pandas as pd\n",
    "import numpy as np\n",
    "import matplotlib.pyplot as plt\n",
    "from sklearn import datasets\n",
    "from sklearn import model_selection\n",
    "from sklearn import linear_model\n",
    "from sklearn import metrics\n",
    "\n",
    "df = pd.read_csv('consumption.csv').dropna()\n",
    "df.drop(\"Unnamed: 0\", axis=1, inplace=True)\n",
    "\n",
    "x = df.drop('AnomalyType', axis=1)\n",
    "y = df['AnomalyType']\n",
    "\n",
    "X_train, X_test, y_train, y_test = model_selection.train_test_split(x, y, test_size= 0.3, random_state = 1)\n",
    "\n",
    "print('X_train dimension= ', X_train.shape)\n",
    "print('X_test dimension= ', X_test.shape)\n",
    "print('y_train dimension= ', y_train.shape)\n",
    "print('y_train dimension= ', y_test.shape)\n",
    "\n",
    "lm = linear_model.LogisticRegression(multi_class='ovr', solver='liblinear')\n",
    "lm.fit(X_train, y_train)\n",
    "\n",
    "lm.score(X_test, y_test)\n",
    "\n",
    "print(metrics.classification_report(y_test, lm.predict(X_test)))"
   ]
  },
  {
   "cell_type": "code",
   "execution_count": 82,
   "id": "13f6f882",
   "metadata": {},
   "outputs": [
    {
     "name": "stdout",
     "output_type": "stream",
     "text": [
      "X_train dimension=  (12222, 8)\n",
      "X_test dimension=  (5238, 8)\n",
      "y_train dimension=  (12222,)\n",
      "y_train dimension=  (5238,)\n",
      "              precision    recall  f1-score   support\n",
      "\n",
      "           0       0.96      1.00      0.98      4720\n",
      "           1       1.00      0.54      0.70       149\n",
      "           2       0.78      0.35      0.48       151\n",
      "           3       0.87      0.69      0.77       218\n",
      "\n",
      "    accuracy                           0.95      5238\n",
      "   macro avg       0.90      0.65      0.73      5238\n",
      "weighted avg       0.95      0.95      0.95      5238\n",
      "\n"
     ]
    }
   ],
   "source": [
    "import pandas as pd\n",
    "import numpy as np\n",
    "import matplotlib.pyplot as plt\n",
    "from sklearn import datasets\n",
    "from sklearn import model_selection\n",
    "from sklearn import linear_model\n",
    "from sklearn import metrics\n",
    "\n",
    "df = pd.read_csv('consumption_known_vars.csv')\n",
    "df.drop(\"Unnamed: 0\", axis=1, inplace=True)\n",
    "\n",
    "x = df.drop('AnomalyType', axis=1)\n",
    "y = df['AnomalyType']\n",
    "\n",
    "X_train, X_test, y_train, y_test = model_selection.train_test_split(x, y, test_size= 0.3, random_state = 1)\n",
    "\n",
    "print('X_train dimension= ', X_train.shape)\n",
    "print('X_test dimension= ', X_test.shape)\n",
    "print('y_train dimension= ', y_train.shape)\n",
    "print('y_train dimension= ', y_test.shape)\n",
    "\n",
    "lm = linear_model.LogisticRegression(multi_class='ovr', solver='liblinear')\n",
    "lm.fit(X_train, y_train)\n",
    "\n",
    "lm.score(X_test, y_test)\n",
    "\n",
    "print(metrics.classification_report(y_test, lm.predict(X_test)))"
   ]
  },
  {
   "cell_type": "code",
   "execution_count": null,
   "id": "48fe4606",
   "metadata": {},
   "outputs": [],
   "source": []
  },
  {
   "cell_type": "code",
   "execution_count": null,
   "id": "fb45c17b",
   "metadata": {},
   "outputs": [],
   "source": []
  },
  {
   "cell_type": "code",
   "execution_count": null,
   "id": "6a50aadf",
   "metadata": {},
   "outputs": [],
   "source": []
  },
  {
   "cell_type": "code",
   "execution_count": null,
   "id": "254a6cbc",
   "metadata": {},
   "outputs": [],
   "source": []
  },
  {
   "cell_type": "code",
   "execution_count": null,
   "id": "0b63d35a",
   "metadata": {},
   "outputs": [],
   "source": []
  }
 ],
 "metadata": {
  "kernelspec": {
   "display_name": "Python 3 (ipykernel)",
   "language": "python",
   "name": "python3"
  },
  "language_info": {
   "codemirror_mode": {
    "name": "ipython",
    "version": 3
   },
   "file_extension": ".py",
   "mimetype": "text/x-python",
   "name": "python",
   "nbconvert_exporter": "python",
   "pygments_lexer": "ipython3",
   "version": "3.9.7"
  }
 },
 "nbformat": 4,
 "nbformat_minor": 5
}
